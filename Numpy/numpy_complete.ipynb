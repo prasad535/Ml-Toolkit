{
 "cells": [
  {
   "cell_type": "markdown",
   "id": "014d16b9-435d-4c87-b50b-20bf2cd4377a",
   "metadata": {},
   "source": [
    "# Numpy\n",
    "\n",
    "- numpy: Numerical Python\n",
    "- library contains 1000+ function which are resuable and optimized.\n",
    "- numpy array means collection of same type elements. \n",
    "- numpy arrays are faster because this build on c++"
   ]
  },
  {
   "cell_type": "code",
   "execution_count": 2,
   "id": "8ec463ce-e793-4649-a3a1-6f9e7392ea99",
   "metadata": {},
   "outputs": [],
   "source": [
    "# Importing the library\n",
    "import numpy as np"
   ]
  },
  {
   "cell_type": "markdown",
   "id": "f62cce63-d26b-4237-8a37-c78bc911c34d",
   "metadata": {},
   "source": [
    "## Create numpy array\n",
    "\n",
    "- `np.array()` and `np.asarry()` both are used to create the numpy arrays.\n",
    "- we can create numpy arrays from lists and typles"
   ]
  },
  {
   "cell_type": "code",
   "execution_count": 4,
   "id": "c6d1e411-2ed2-452b-8ed2-7babcd383aec",
   "metadata": {},
   "outputs": [
    {
     "data": {
      "text/plain": [
       "array([10, 20, 30, 40])"
      ]
     },
     "execution_count": 4,
     "metadata": {},
     "output_type": "execute_result"
    }
   ],
   "source": [
    "# 1. np.array()\n",
    "\n",
    "l = [10,20,30,40]\n",
    "arr1 = np.array(l)\n",
    "arr1"
   ]
  },
  {
   "cell_type": "code",
   "execution_count": 5,
   "id": "ca2bb10f-9528-453f-9d0a-76b2b42401c3",
   "metadata": {},
   "outputs": [
    {
     "data": {
      "text/plain": [
       "array([[1, 2, 3],\n",
       "       [2, 2, 2]])"
      ]
     },
     "execution_count": 5,
     "metadata": {},
     "output_type": "execute_result"
    }
   ],
   "source": [
    "l2 = [[1,2,3], [2,2,2]]\n",
    "arr2 = np.array(l2)\n",
    "arr2"
   ]
  },
  {
   "cell_type": "code",
   "execution_count": 7,
   "id": "9216e780-52b1-45fd-b287-35382602c806",
   "metadata": {},
   "outputs": [
    {
     "data": {
      "text/plain": [
       "array([ 1,  5, 10])"
      ]
     },
     "execution_count": 7,
     "metadata": {},
     "output_type": "execute_result"
    }
   ],
   "source": [
    "arr3 = np.array([1,5, 10])\n",
    "arr3"
   ]
  },
  {
   "cell_type": "code",
   "execution_count": 11,
   "id": "f208e275-b335-42d9-9386-fd12c7ad57ff",
   "metadata": {},
   "outputs": [
    {
     "data": {
      "text/plain": [
       "array([1, 2, 3, 4, 5, 5, 5, 5, 5])"
      ]
     },
     "execution_count": 11,
     "metadata": {},
     "output_type": "execute_result"
    }
   ],
   "source": [
    "# 2. np.asarray()\n",
    "\n",
    "arr4 = np.asarray((1,2,3,4,5,5,5,5,5))\n",
    "arr4"
   ]
  },
  {
   "cell_type": "markdown",
   "id": "df648332-9d66-4b18-9afe-0b3370b2ba1b",
   "metadata": {},
   "source": [
    "## characteristics\n",
    "- ndim - returns the dimension of the array\n",
    "- shape - returns the number of rows and columns\n",
    "- size - returns total number of elements in the array.\n",
    "- dtype - returns the data type of the array"
   ]
  },
  {
   "cell_type": "code",
   "execution_count": 17,
   "id": "77fd5d6b-9180-48d9-a68a-9f7868fc20c1",
   "metadata": {},
   "outputs": [
    {
     "data": {
      "text/plain": [
       "1"
      ]
     },
     "execution_count": 17,
     "metadata": {},
     "output_type": "execute_result"
    }
   ],
   "source": [
    "# 3. arr.ndim\n",
    "arr1.ndim"
   ]
  },
  {
   "cell_type": "code",
   "execution_count": 18,
   "id": "72802f2f-dc97-4367-90fb-452112c0f796",
   "metadata": {},
   "outputs": [
    {
     "data": {
      "text/plain": [
       "2"
      ]
     },
     "execution_count": 18,
     "metadata": {},
     "output_type": "execute_result"
    }
   ],
   "source": [
    "arr2.ndim"
   ]
  },
  {
   "cell_type": "code",
   "execution_count": 19,
   "id": "850292c9-0d56-465e-abaf-ab2100f56c9c",
   "metadata": {},
   "outputs": [
    {
     "data": {
      "text/plain": [
       "1"
      ]
     },
     "execution_count": 19,
     "metadata": {},
     "output_type": "execute_result"
    }
   ],
   "source": [
    "arr3.ndim"
   ]
  },
  {
   "cell_type": "code",
   "execution_count": 20,
   "id": "b6864f20-5a0e-4b36-be29-eee1ea37a98c",
   "metadata": {},
   "outputs": [
    {
     "data": {
      "text/plain": [
       "(4,)"
      ]
     },
     "execution_count": 20,
     "metadata": {},
     "output_type": "execute_result"
    }
   ],
   "source": [
    "# 4. shape\n",
    "arr1.shape"
   ]
  },
  {
   "cell_type": "code",
   "execution_count": 21,
   "id": "eb728723-283b-4553-add8-da4b1ce00bab",
   "metadata": {},
   "outputs": [
    {
     "data": {
      "text/plain": [
       "(2, 3)"
      ]
     },
     "execution_count": 21,
     "metadata": {},
     "output_type": "execute_result"
    }
   ],
   "source": [
    "arr2.shape"
   ]
  },
  {
   "cell_type": "code",
   "execution_count": 22,
   "id": "659a4b58-b8c1-498d-b3cc-73c372ea7896",
   "metadata": {},
   "outputs": [
    {
     "data": {
      "text/plain": [
       "4"
      ]
     },
     "execution_count": 22,
     "metadata": {},
     "output_type": "execute_result"
    }
   ],
   "source": [
    "## 5. size\n",
    "arr1.size"
   ]
  },
  {
   "cell_type": "code",
   "execution_count": 23,
   "id": "59859f9f-9230-4796-b0f6-57531e0c181e",
   "metadata": {},
   "outputs": [
    {
     "data": {
      "text/plain": [
       "6"
      ]
     },
     "execution_count": 23,
     "metadata": {},
     "output_type": "execute_result"
    }
   ],
   "source": [
    "arr2.size"
   ]
  },
  {
   "cell_type": "code",
   "execution_count": 24,
   "id": "918cf7dc-6bdb-4c67-bf3f-d7b48dc70d0d",
   "metadata": {},
   "outputs": [
    {
     "data": {
      "text/plain": [
       "dtype('int64')"
      ]
     },
     "execution_count": 24,
     "metadata": {},
     "output_type": "execute_result"
    }
   ],
   "source": [
    "## 6. dtype\n",
    "arr1.dtype"
   ]
  },
  {
   "cell_type": "code",
   "execution_count": 25,
   "id": "bfac507c-59b3-474e-be41-cd1cf33ca658",
   "metadata": {},
   "outputs": [
    {
     "data": {
      "text/plain": [
       "dtype('int64')"
      ]
     },
     "execution_count": 25,
     "metadata": {},
     "output_type": "execute_result"
    }
   ],
   "source": [
    "arr2.dtype"
   ]
  },
  {
   "cell_type": "markdown",
   "id": "574815e6-fdb8-4287-a78c-e968efcdede9",
   "metadata": {},
   "source": [
    "`np.matrix()` - It create a matrix. The size of the matrix is always 2-dimensional. It will through error if dimension greather than 2. \n",
    "- if we give one dimensional array, during matrix creation the dimension is changed to 2."
   ]
  },
  {
   "cell_type": "code",
   "execution_count": 27,
   "id": "9294a294-3079-48ec-aa7b-955437d7275d",
   "metadata": {},
   "outputs": [
    {
     "data": {
      "text/plain": [
       "matrix([[1, 2, 3, 4]])"
      ]
     },
     "execution_count": 27,
     "metadata": {},
     "output_type": "execute_result"
    }
   ],
   "source": [
    "\n",
    "mat = np.matrix([1,2,3,4])\n",
    "mat"
   ]
  },
  {
   "cell_type": "code",
   "execution_count": 28,
   "id": "5ee296dd-973b-47a4-bb20-f5eabc91f135",
   "metadata": {},
   "outputs": [
    {
     "ename": "ValueError",
     "evalue": "matrix must be 2-dimensional",
     "output_type": "error",
     "traceback": [
      "\u001b[0;31m---------------------------------------------------------------------------\u001b[0m",
      "\u001b[0;31mValueError\u001b[0m                                Traceback (most recent call last)",
      "Cell \u001b[0;32mIn[28], line 2\u001b[0m\n\u001b[1;32m      1\u001b[0m arr \u001b[38;5;241m=\u001b[39m [[[\u001b[38;5;241m1\u001b[39m,\u001b[38;5;241m2\u001b[39m,\u001b[38;5;241m3\u001b[39m], [\u001b[38;5;241m1\u001b[39m,\u001b[38;5;241m2\u001b[39m,\u001b[38;5;241m3\u001b[39m], [\u001b[38;5;241m1\u001b[39m,\u001b[38;5;241m2\u001b[39m,\u001b[38;5;241m3\u001b[39m]]]\n\u001b[0;32m----> 2\u001b[0m mat2 \u001b[38;5;241m=\u001b[39m \u001b[43mnp\u001b[49m\u001b[38;5;241;43m.\u001b[39;49m\u001b[43mmatrix\u001b[49m\u001b[43m(\u001b[49m\u001b[43marr\u001b[49m\u001b[43m)\u001b[49m\n",
      "File \u001b[0;32m/opt/conda/lib/python3.10/site-packages/numpy/matrixlib/defmatrix.py:149\u001b[0m, in \u001b[0;36mmatrix.__new__\u001b[0;34m(subtype, data, dtype, copy)\u001b[0m\n\u001b[1;32m    147\u001b[0m shape \u001b[38;5;241m=\u001b[39m arr\u001b[38;5;241m.\u001b[39mshape\n\u001b[1;32m    148\u001b[0m \u001b[38;5;28;01mif\u001b[39;00m (ndim \u001b[38;5;241m>\u001b[39m \u001b[38;5;241m2\u001b[39m):\n\u001b[0;32m--> 149\u001b[0m     \u001b[38;5;28;01mraise\u001b[39;00m \u001b[38;5;167;01mValueError\u001b[39;00m(\u001b[38;5;124m\"\u001b[39m\u001b[38;5;124mmatrix must be 2-dimensional\u001b[39m\u001b[38;5;124m\"\u001b[39m)\n\u001b[1;32m    150\u001b[0m \u001b[38;5;28;01melif\u001b[39;00m ndim \u001b[38;5;241m==\u001b[39m \u001b[38;5;241m0\u001b[39m:\n\u001b[1;32m    151\u001b[0m     shape \u001b[38;5;241m=\u001b[39m (\u001b[38;5;241m1\u001b[39m, \u001b[38;5;241m1\u001b[39m)\n",
      "\u001b[0;31mValueError\u001b[0m: matrix must be 2-dimensional"
     ]
    }
   ],
   "source": [
    "arr = [[[1,2,3], [1,2,3], [1,2,3]]]\n",
    "mat2 = np.matrix(arr)"
   ]
  },
  {
   "cell_type": "code",
   "execution_count": 29,
   "id": "fad6a19f-937e-45e2-baa4-bb79ce03c71a",
   "metadata": {},
   "outputs": [
    {
     "data": {
      "text/plain": [
       "matrix([[ 10, 202,  20],\n",
       "        [  2,   4,   6]])"
      ]
     },
     "execution_count": 29,
     "metadata": {},
     "output_type": "execute_result"
    }
   ],
   "source": [
    "arr = [[10,202, 20], [2, 4, 6]]\n",
    "mat3 = np.matrix(arr)\n",
    "mat3"
   ]
  },
  {
   "cell_type": "markdown",
   "id": "58ba292f-f799-46a3-942b-23cdeb15cb43",
   "metadata": {},
   "source": [
    "**Shallow copy**"
   ]
  },
  {
   "cell_type": "code",
   "execution_count": 30,
   "id": "f16e0307-df9f-4f5c-aff3-5556aad275a1",
   "metadata": {},
   "outputs": [],
   "source": [
    "a = np.array([100, 200, 300, 400])"
   ]
  },
  {
   "cell_type": "code",
   "execution_count": 31,
   "id": "1c3b5dfe-261f-403e-9e16-984a15a517fc",
   "metadata": {},
   "outputs": [],
   "source": [
    "b = a"
   ]
  },
  {
   "cell_type": "code",
   "execution_count": 32,
   "id": "b5a185a0-9200-4fab-8737-f090f7a0df5e",
   "metadata": {},
   "outputs": [],
   "source": [
    "#update any value in a or b, it effects the changes is parallely\n",
    "a[0] = 1"
   ]
  },
  {
   "cell_type": "code",
   "execution_count": 33,
   "id": "7774f80e-5b9e-4bd9-8234-a1c8485ba2bc",
   "metadata": {},
   "outputs": [
    {
     "data": {
      "text/plain": [
       "array([  1, 200, 300, 400])"
      ]
     },
     "execution_count": 33,
     "metadata": {},
     "output_type": "execute_result"
    }
   ],
   "source": [
    "a"
   ]
  },
  {
   "cell_type": "code",
   "execution_count": 34,
   "id": "94716d64-9a0d-45db-b97a-0f351356ae0a",
   "metadata": {},
   "outputs": [
    {
     "data": {
      "text/plain": [
       "array([  1, 200, 300, 400])"
      ]
     },
     "execution_count": 34,
     "metadata": {},
     "output_type": "execute_result"
    }
   ],
   "source": [
    "b"
   ]
  },
  {
   "cell_type": "markdown",
   "id": "18dc63cc-1e42-45e9-bc7e-3da4276a7b51",
   "metadata": {},
   "source": [
    "**Deep copy**"
   ]
  },
  {
   "cell_type": "code",
   "execution_count": 35,
   "id": "d7e37e65-6821-473a-b866-aae421003168",
   "metadata": {},
   "outputs": [],
   "source": [
    "arr = np.array([5, 10, 25, 35])"
   ]
  },
  {
   "cell_type": "code",
   "execution_count": 36,
   "id": "afb555f0-c46c-4d56-b618-e40e224086e4",
   "metadata": {},
   "outputs": [],
   "source": [
    "arrCopy = arr.copy()"
   ]
  },
  {
   "cell_type": "code",
   "execution_count": 37,
   "id": "df87f141-0061-4712-993a-272645067022",
   "metadata": {},
   "outputs": [],
   "source": [
    "arr[1] = 10000000"
   ]
  },
  {
   "cell_type": "code",
   "execution_count": 38,
   "id": "4ab64bf8-501a-4fcd-a6f1-70b17828c34d",
   "metadata": {},
   "outputs": [
    {
     "data": {
      "text/plain": [
       "array([       5, 10000000,       25,       35])"
      ]
     },
     "execution_count": 38,
     "metadata": {},
     "output_type": "execute_result"
    }
   ],
   "source": [
    "arr"
   ]
  },
  {
   "cell_type": "code",
   "execution_count": 39,
   "id": "8e479fe7-7255-40d3-9253-6185bce477e6",
   "metadata": {},
   "outputs": [
    {
     "data": {
      "text/plain": [
       "array([ 5, 10, 25, 35])"
      ]
     },
     "execution_count": 39,
     "metadata": {},
     "output_type": "execute_result"
    }
   ],
   "source": [
    "arrCopy"
   ]
  },
  {
   "cell_type": "markdown",
   "id": "226d98a4-d4c0-4c9c-bb07-25cbb8f90838",
   "metadata": {},
   "source": [
    "**fromfunction** - It generates array by using the defined function"
   ]
  },
  {
   "cell_type": "code",
   "execution_count": 40,
   "id": "adb0c759-13b3-458e-a5c4-2fdafa5dc2b5",
   "metadata": {},
   "outputs": [
    {
     "data": {
      "text/plain": [
       "array([[ True, False, False, False, False],\n",
       "       [False,  True, False, False, False],\n",
       "       [False, False,  True, False, False],\n",
       "       [False, False, False,  True, False]])"
      ]
     },
     "execution_count": 40,
     "metadata": {},
     "output_type": "execute_result"
    }
   ],
   "source": [
    "np.fromfunction(lambda i, j: i==j, shape=(4,5))"
   ]
  },
  {
   "cell_type": "code",
   "execution_count": 43,
   "id": "2c5f1d43-f5f4-4e8b-8935-c201b4e7d37a",
   "metadata": {},
   "outputs": [
    {
     "data": {
      "text/plain": [
       "array([[ 0.,  0.,  0.,  0.,  0.],\n",
       "       [ 0.,  1.,  2.,  3.,  4.],\n",
       "       [ 0.,  2.,  4.,  6.,  8.],\n",
       "       [ 0.,  3.,  6.,  9., 12.]])"
      ]
     },
     "execution_count": 43,
     "metadata": {},
     "output_type": "execute_result"
    }
   ],
   "source": [
    "np.fromfunction(lambda i, j: i*j, shape=(4,5))"
   ]
  },
  {
   "cell_type": "code",
   "execution_count": 48,
   "id": "30de1225-6055-42e1-8b74-95fcdca9b7a8",
   "metadata": {},
   "outputs": [
    {
     "data": {
      "text/plain": [
       "array([[1., 0., 0.],\n",
       "       [1., 1., 1.],\n",
       "       [1., 2., 4.]])"
      ]
     },
     "execution_count": 48,
     "metadata": {},
     "output_type": "execute_result"
    }
   ],
   "source": [
    "def power(a, b):\n",
    "    return a**b\n",
    "\n",
    "np.fromfunction(lambda i, j: power(i, j), shape = (3,3))"
   ]
  },
  {
   "cell_type": "markdown",
   "id": "3a8d9bab-8b09-4d5a-ae3a-eb524afbe9fc",
   "metadata": {},
   "source": [
    "**fromiter** - generates array from the iterables"
   ]
  },
  {
   "cell_type": "code",
   "execution_count": 45,
   "id": "a527250a-91c5-4dc1-8c77-dc5bf65d1e28",
   "metadata": {},
   "outputs": [
    {
     "data": {
      "text/plain": [
       "array([ 0.,  1.,  4.,  9., 16.])"
      ]
     },
     "execution_count": 45,
     "metadata": {},
     "output_type": "execute_result"
    }
   ],
   "source": [
    "iterables = (i*i for i in range(0,5))\n",
    "np.fromiter(iterables, float)"
   ]
  },
  {
   "cell_type": "markdown",
   "id": "c3ae034e-c9f0-46f6-a068-3dae1818b8fa",
   "metadata": {},
   "source": [
    "**fromstring** - generate array from the string with common separator\n"
   ]
  },
  {
   "cell_type": "code",
   "execution_count": 56,
   "id": "7ca82383-a25d-4700-bbf8-709255477773",
   "metadata": {},
   "outputs": [
    {
     "data": {
      "text/plain": [
       "array([1999,   24,   65,   76,   67,  234])"
      ]
     },
     "execution_count": 56,
     "metadata": {},
     "output_type": "execute_result"
    }
   ],
   "source": [
    "string = \"1999,24, 65, 76, 67, 234\"\n",
    "np.fromstring(string, sep=\",\", dtype=int)"
   ]
  },
  {
   "cell_type": "markdown",
   "id": "48216852-59f6-420a-af93-cead08a2723f",
   "metadata": {},
   "source": [
    "- `range()` in python doesnot support with floating values. \n",
    "- `np.arange()` in numpy support floating values as well"
   ]
  },
  {
   "cell_type": "code",
   "execution_count": 57,
   "id": "d3adb526-0401-433e-b476-258624ec1563",
   "metadata": {},
   "outputs": [
    {
     "ename": "TypeError",
     "evalue": "'float' object cannot be interpreted as an integer",
     "output_type": "error",
     "traceback": [
      "\u001b[0;31m---------------------------------------------------------------------------\u001b[0m",
      "\u001b[0;31mTypeError\u001b[0m                                 Traceback (most recent call last)",
      "Cell \u001b[0;32mIn[57], line 1\u001b[0m\n\u001b[0;32m----> 1\u001b[0m \u001b[38;5;28;43mrange\u001b[39;49m\u001b[43m(\u001b[49m\u001b[38;5;241;43m6.2\u001b[39;49m\u001b[43m,\u001b[49m\u001b[43m \u001b[49m\u001b[38;5;241;43m9\u001b[39;49m\u001b[43m)\u001b[49m\n",
      "\u001b[0;31mTypeError\u001b[0m: 'float' object cannot be interpreted as an integer"
     ]
    }
   ],
   "source": [
    "range(6.2, 9)"
   ]
  },
  {
   "cell_type": "code",
   "execution_count": 58,
   "id": "260d9477-7d86-42b8-a555-6c1c51b31b53",
   "metadata": {},
   "outputs": [
    {
     "data": {
      "text/plain": [
       "array([0.2, 1.2, 2.2, 3.2, 4.2, 5.2])"
      ]
     },
     "execution_count": 58,
     "metadata": {},
     "output_type": "execute_result"
    }
   ],
   "source": [
    "np.arange(0.2, 6)"
   ]
  },
  {
   "cell_type": "markdown",
   "id": "ab79e693-5ba1-4325-a602-60cf90616046",
   "metadata": {},
   "source": [
    "**`np.linspcae()` - it will generate array with equal distance elements from low to high for given size**"
   ]
  },
  {
   "cell_type": "code",
   "execution_count": 59,
   "id": "cadf6558-0f0b-44ca-9cca-976474cad060",
   "metadata": {},
   "outputs": [
    {
     "data": {
      "text/plain": [
       "array([ 1.        ,  1.47368421,  1.94736842,  2.42105263,  2.89473684,\n",
       "        3.36842105,  3.84210526,  4.31578947,  4.78947368,  5.26315789,\n",
       "        5.73684211,  6.21052632,  6.68421053,  7.15789474,  7.63157895,\n",
       "        8.10526316,  8.57894737,  9.05263158,  9.52631579, 10.        ])"
      ]
     },
     "execution_count": 59,
     "metadata": {},
     "output_type": "execute_result"
    }
   ],
   "source": [
    "np.linspace(start=1, stop=10, num=20)"
   ]
  },
  {
   "cell_type": "markdown",
   "id": "d61a0954-5424-47a9-a616-f3590e70c619",
   "metadata": {},
   "source": [
    "**`np.logspace()` - generate array with log values from start to stop for given num along with log base**"
   ]
  },
  {
   "cell_type": "code",
   "execution_count": 60,
   "id": "188d3107-b86c-409d-9bac-783d409e8b7e",
   "metadata": {},
   "outputs": [
    {
     "data": {
      "text/plain": [
       "array([ 4.        ,  5.65685425,  8.        , 11.3137085 , 16.        ])"
      ]
     },
     "execution_count": 60,
     "metadata": {},
     "output_type": "execute_result"
    }
   ],
   "source": [
    "np.logspace(start = 2, stop= 4, num=5, base = 2)"
   ]
  },
  {
   "cell_type": "markdown",
   "id": "c7281eaf-ef5f-4244-8902-54450067bc41",
   "metadata": {},
   "source": [
    "**`np.zeros()` - generate array with zeros of given shape**"
   ]
  },
  {
   "cell_type": "code",
   "execution_count": 61,
   "id": "5b97bf26-bea7-4e22-91aa-c2e0bfc6f4b1",
   "metadata": {},
   "outputs": [
    {
     "data": {
      "text/plain": [
       "array([0., 0., 0., 0.])"
      ]
     },
     "execution_count": 61,
     "metadata": {},
     "output_type": "execute_result"
    }
   ],
   "source": [
    "np.zeros(4)"
   ]
  },
  {
   "cell_type": "code",
   "execution_count": 62,
   "id": "19041b98-2b99-41b2-940e-f2f2fc17a07b",
   "metadata": {},
   "outputs": [
    {
     "data": {
      "text/plain": [
       "array([[0., 0., 0.],\n",
       "       [0., 0., 0.],\n",
       "       [0., 0., 0.]])"
      ]
     },
     "execution_count": 62,
     "metadata": {},
     "output_type": "execute_result"
    }
   ],
   "source": [
    "np.zeros(shape=(3,3))"
   ]
  },
  {
   "cell_type": "code",
   "execution_count": 63,
   "id": "a8349a5d-6ba9-4cd7-b16e-9199f26839d9",
   "metadata": {},
   "outputs": [
    {
     "data": {
      "text/plain": [
       "array([[0., 0.],\n",
       "       [0., 0.],\n",
       "       [0., 0.],\n",
       "       [0., 0.]])"
      ]
     },
     "execution_count": 63,
     "metadata": {},
     "output_type": "execute_result"
    }
   ],
   "source": [
    "np.zeros(shape=(4, 2))"
   ]
  },
  {
   "cell_type": "markdown",
   "id": "c5608ffa-25ee-4257-923d-679ec0c1cd36",
   "metadata": {},
   "source": [
    "**`np.ones()` - generates array with all ones for given shape**"
   ]
  },
  {
   "cell_type": "code",
   "execution_count": 65,
   "id": "57b650ce-8265-4c40-a12a-3f973dcf9b46",
   "metadata": {},
   "outputs": [
    {
     "data": {
      "text/plain": [
       "array([1., 1., 1., 1.])"
      ]
     },
     "execution_count": 65,
     "metadata": {},
     "output_type": "execute_result"
    }
   ],
   "source": [
    "np.ones(4)"
   ]
  },
  {
   "cell_type": "code",
   "execution_count": 66,
   "id": "6b27bcf8-6fab-4de6-bb84-90146442c3f9",
   "metadata": {},
   "outputs": [
    {
     "data": {
      "text/plain": [
       "array([[1., 1., 1., 1.],\n",
       "       [1., 1., 1., 1.],\n",
       "       [1., 1., 1., 1.],\n",
       "       [1., 1., 1., 1.]])"
      ]
     },
     "execution_count": 66,
     "metadata": {},
     "output_type": "execute_result"
    }
   ],
   "source": [
    "np.ones(shape= (4,4))"
   ]
  },
  {
   "cell_type": "markdown",
   "id": "916e8a4c-4a74-4fd4-8ae4-2e6e789211dc",
   "metadata": {},
   "source": [
    "**`np.empty()` - generates array with random number for given shape**"
   ]
  },
  {
   "cell_type": "code",
   "execution_count": 67,
   "id": "5066a55b-3502-4be6-b6f9-70f6b0b39825",
   "metadata": {},
   "outputs": [
    {
     "data": {
      "text/plain": [
       "array([[4.67523793e-310, 0.00000000e+000, 6.93427679e-310,\n",
       "        6.93427679e-310, 6.93427678e-310, 6.93427679e-310],\n",
       "       [6.93427679e-310, 6.93427665e-310, 6.93427680e-310,\n",
       "        6.93427672e-310, 6.93427707e-310, 4.67627317e-310],\n",
       "       [0.00000000e+000, 0.00000000e+000, 6.93427579e-310,\n",
       "        6.93427580e-310, 6.93427579e-310, 6.93427615e-310],\n",
       "       [6.93427579e-310, 6.93427616e-310, 6.93427591e-310,\n",
       "        6.93427579e-310, 6.93427590e-310, 6.93427590e-310],\n",
       "       [6.93427591e-310, 6.93427591e-310, 6.93427592e-310,\n",
       "        6.93427615e-310, 6.93427592e-310, 6.93427592e-310],\n",
       "       [6.93427592e-310, 6.93427592e-310, 6.93427580e-310,\n",
       "        6.93427592e-310, 6.93427580e-310, 6.93427592e-310]])"
      ]
     },
     "execution_count": 67,
     "metadata": {},
     "output_type": "execute_result"
    }
   ],
   "source": [
    "np.empty(shape=(6,6))"
   ]
  },
  {
   "cell_type": "markdown",
   "id": "fa4cb54c-21ff-4fc9-806c-ee59efa19d11",
   "metadata": {},
   "source": [
    "**`np.eye()` - generates identity matrix, here number of rows and columns always eqaul**"
   ]
  },
  {
   "cell_type": "code",
   "execution_count": 69,
   "id": "b7b13141-3578-49e9-bb38-0fde9be22ccb",
   "metadata": {},
   "outputs": [
    {
     "data": {
      "text/plain": [
       "array([[1., 0., 0., 0., 0., 0.],\n",
       "       [0., 1., 0., 0., 0., 0.],\n",
       "       [0., 0., 1., 0., 0., 0.],\n",
       "       [0., 0., 0., 1., 0., 0.],\n",
       "       [0., 0., 0., 0., 1., 0.],\n",
       "       [0., 0., 0., 0., 0., 1.]])"
      ]
     },
     "execution_count": 69,
     "metadata": {},
     "output_type": "execute_result"
    }
   ],
   "source": [
    "np.eye(6)"
   ]
  },
  {
   "cell_type": "markdown",
   "id": "62b5defe-e40a-455a-a5be-5bdf45c4d061",
   "metadata": {},
   "source": [
    "**`np.random.rand()` - generate random values for for given shape**"
   ]
  },
  {
   "cell_type": "code",
   "execution_count": 71,
   "id": "31a2127a-7c6a-4d27-8319-055591c9d572",
   "metadata": {},
   "outputs": [
    {
     "data": {
      "text/plain": [
       "array([[0.68944712, 0.74835961, 0.02486407],\n",
       "       [0.29070324, 0.60447769, 0.67493839]])"
      ]
     },
     "execution_count": 71,
     "metadata": {},
     "output_type": "execute_result"
    }
   ],
   "source": [
    "np.random.rand(2,3)"
   ]
  },
  {
   "cell_type": "markdown",
   "id": "a81845f2-1c61-4b88-9e1b-6eb593eac0ce",
   "metadata": {},
   "source": [
    "**`np.random.randn()` - generate elements in stadard distrubution in given shape**"
   ]
  },
  {
   "cell_type": "code",
   "execution_count": 75,
   "id": "03c267e7-fe4a-4eca-9507-c6583e8ca12d",
   "metadata": {},
   "outputs": [
    {
     "data": {
      "text/plain": [
       "array([[ 0.18500356,  1.42043413, -0.29452761],\n",
       "       [ 0.66351916,  1.81544211,  1.16422108],\n",
       "       [ 0.38371718, -0.20879405,  0.84950532]])"
      ]
     },
     "execution_count": 75,
     "metadata": {},
     "output_type": "execute_result"
    }
   ],
   "source": [
    "np.random.randn(3,3)"
   ]
  },
  {
   "cell_type": "markdown",
   "id": "00cc7656-899b-4012-8689-ce4fd131740b",
   "metadata": {},
   "source": [
    "**`np.random.randint()` - generate integers between low to high with given shape**"
   ]
  },
  {
   "cell_type": "code",
   "execution_count": 80,
   "id": "f4844277-6b81-47a8-8bdf-c02a32b16c58",
   "metadata": {},
   "outputs": [
    {
     "data": {
      "text/plain": [
       "array([[ 4, 32,  6],\n",
       "       [ 4, 18, 32],\n",
       "       [ 2, 21,  4],\n",
       "       [11,  5, 27],\n",
       "       [15, 25, 26],\n",
       "       [23, 10, 20]])"
      ]
     },
     "execution_count": 80,
     "metadata": {},
     "output_type": "execute_result"
    }
   ],
   "source": [
    "arr = np.random.randint(low = 0, high = 35, size=(6,3))\n",
    "arr"
   ]
  },
  {
   "cell_type": "markdown",
   "id": "02f3a4f4-691d-49f6-9cde-497f064eb85a",
   "metadata": {},
   "source": [
    "**arr.shape()** - reshape to different shape. the result shape should be multiples of input shape"
   ]
  },
  {
   "cell_type": "code",
   "execution_count": 81,
   "id": "0bb9ef29-49b5-456e-9214-a482172558c9",
   "metadata": {},
   "outputs": [
    {
     "data": {
      "text/plain": [
       "array([[ 4, 32],\n",
       "       [ 6,  4],\n",
       "       [18, 32],\n",
       "       [ 2, 21],\n",
       "       [ 4, 11],\n",
       "       [ 5, 27],\n",
       "       [15, 25],\n",
       "       [26, 23],\n",
       "       [10, 20]])"
      ]
     },
     "execution_count": 81,
     "metadata": {},
     "output_type": "execute_result"
    }
   ],
   "source": [
    "arr.reshape(9,2)"
   ]
  },
  {
   "cell_type": "code",
   "execution_count": 82,
   "id": "fcc7a884-ed6a-4f9f-af53-fa711ae23453",
   "metadata": {},
   "outputs": [
    {
     "data": {
      "text/plain": [
       "array([[[ 4, 32],\n",
       "        [ 6,  4],\n",
       "        [18, 32]],\n",
       "\n",
       "       [[ 2, 21],\n",
       "        [ 4, 11],\n",
       "        [ 5, 27]],\n",
       "\n",
       "       [[15, 25],\n",
       "        [26, 23],\n",
       "        [10, 20]]])"
      ]
     },
     "execution_count": 82,
     "metadata": {},
     "output_type": "execute_result"
    }
   ],
   "source": [
    "arr.reshape(3,3,2)"
   ]
  },
  {
   "cell_type": "markdown",
   "id": "8d5f44cb-6cc4-4c21-85a8-9de012a553c0",
   "metadata": {},
   "source": [
    "**`filter with condition`**"
   ]
  },
  {
   "cell_type": "code",
   "execution_count": 83,
   "id": "946bc45c-db25-45a4-99b8-ad6ffd374020",
   "metadata": {},
   "outputs": [
    {
     "data": {
      "text/plain": [
       "array([[ 4, 32,  6],\n",
       "       [ 4, 18, 32],\n",
       "       [ 2, 21,  4],\n",
       "       [11,  5, 27],\n",
       "       [15, 25, 26],\n",
       "       [23, 10, 20]])"
      ]
     },
     "execution_count": 83,
     "metadata": {},
     "output_type": "execute_result"
    }
   ],
   "source": [
    "arr"
   ]
  },
  {
   "cell_type": "code",
   "execution_count": 84,
   "id": "f7dcc292-bfdf-477d-a9d9-e2c4bde291d2",
   "metadata": {},
   "outputs": [
    {
     "data": {
      "text/plain": [
       "array([[False,  True, False],\n",
       "       [False,  True,  True],\n",
       "       [False,  True, False],\n",
       "       [False, False,  True],\n",
       "       [False,  True,  True],\n",
       "       [ True, False,  True]])"
      ]
     },
     "execution_count": 84,
     "metadata": {},
     "output_type": "execute_result"
    }
   ],
   "source": [
    "arr > 15"
   ]
  },
  {
   "cell_type": "code",
   "execution_count": 85,
   "id": "6179a9af-c53f-40b2-931f-43c9ea8685f6",
   "metadata": {},
   "outputs": [
    {
     "data": {
      "text/plain": [
       "array([32, 18, 32, 21, 27, 25, 26, 23, 20])"
      ]
     },
     "execution_count": 85,
     "metadata": {},
     "output_type": "execute_result"
    }
   ],
   "source": [
    "arr[arr>15]"
   ]
  },
  {
   "cell_type": "markdown",
   "id": "d7f77764-b911-4329-bc6d-80906453ab3a",
   "metadata": {},
   "source": [
    "**`slicing` - subselection of rows and columns**"
   ]
  },
  {
   "cell_type": "code",
   "execution_count": 86,
   "id": "a6c4506a-282f-4114-917f-5f7738afb7c7",
   "metadata": {},
   "outputs": [
    {
     "data": {
      "text/plain": [
       "array([[ 4, 32,  6],\n",
       "       [ 4, 18, 32],\n",
       "       [ 2, 21,  4],\n",
       "       [11,  5, 27],\n",
       "       [15, 25, 26],\n",
       "       [23, 10, 20]])"
      ]
     },
     "execution_count": 86,
     "metadata": {},
     "output_type": "execute_result"
    }
   ],
   "source": [
    "arr"
   ]
  },
  {
   "cell_type": "code",
   "execution_count": 87,
   "id": "a99c32f2-3c90-4b27-92dd-123bc80b705a",
   "metadata": {},
   "outputs": [
    {
     "data": {
      "text/plain": [
       "array([ 4, 32,  6])"
      ]
     },
     "execution_count": 87,
     "metadata": {},
     "output_type": "execute_result"
    }
   ],
   "source": [
    "arr[0]"
   ]
  },
  {
   "cell_type": "code",
   "execution_count": 88,
   "id": "e91bc912-f4e4-4c68-838b-5b006d8d0795",
   "metadata": {},
   "outputs": [
    {
     "data": {
      "text/plain": [
       "array([[ 4, 32,  6],\n",
       "       [ 4, 18, 32],\n",
       "       [ 2, 21,  4]])"
      ]
     },
     "execution_count": 88,
     "metadata": {},
     "output_type": "execute_result"
    }
   ],
   "source": [
    "arr[0:3]"
   ]
  },
  {
   "cell_type": "code",
   "execution_count": 89,
   "id": "e8fb8649-0756-4e99-8259-17d9f5f5d347",
   "metadata": {},
   "outputs": [
    {
     "data": {
      "text/plain": [
       "array([32, 18, 21])"
      ]
     },
     "execution_count": 89,
     "metadata": {},
     "output_type": "execute_result"
    }
   ],
   "source": [
    "arr[0:3, 1]"
   ]
  },
  {
   "cell_type": "code",
   "execution_count": 92,
   "id": "635e5036-76c2-4a96-ad57-9818f6187b3c",
   "metadata": {},
   "outputs": [
    {
     "data": {
      "text/plain": [
       "array([[32,  6],\n",
       "       [18, 32],\n",
       "       [21,  4],\n",
       "       [ 5, 27]])"
      ]
     },
     "execution_count": 92,
     "metadata": {},
     "output_type": "execute_result"
    }
   ],
   "source": [
    "arr[0:4, 1:]"
   ]
  },
  {
   "cell_type": "markdown",
   "id": "2e5dc2ce-daec-46d0-8f7f-bf3dacc33602",
   "metadata": {},
   "source": [
    "**`Index wise arthematic operations` - perfrom addition/subtraction/multiplication index wise**"
   ]
  },
  {
   "cell_type": "code",
   "execution_count": 95,
   "id": "75dcf0a3-1d11-4789-9db0-dc93324ee499",
   "metadata": {},
   "outputs": [],
   "source": [
    "arr1 = np.random.randint(5, 50, (3,3))\n",
    "arr2 = np.random.randint(1, 5, (3,3))"
   ]
  },
  {
   "cell_type": "code",
   "execution_count": 96,
   "id": "6446b3e8-93e4-4d95-ad64-3dd63264b05f",
   "metadata": {},
   "outputs": [
    {
     "data": {
      "text/plain": [
       "array([[ 7, 42, 18],\n",
       "       [18, 30, 32],\n",
       "       [ 5, 13, 14]])"
      ]
     },
     "execution_count": 96,
     "metadata": {},
     "output_type": "execute_result"
    }
   ],
   "source": [
    "arr1"
   ]
  },
  {
   "cell_type": "code",
   "execution_count": 97,
   "id": "27936144-e458-4889-8ba3-ea24f31836e4",
   "metadata": {},
   "outputs": [
    {
     "data": {
      "text/plain": [
       "array([[3, 3, 3],\n",
       "       [4, 2, 2],\n",
       "       [2, 1, 2]])"
      ]
     },
     "execution_count": 97,
     "metadata": {},
     "output_type": "execute_result"
    }
   ],
   "source": [
    "arr2"
   ]
  },
  {
   "cell_type": "code",
   "execution_count": 98,
   "id": "9e09024e-305b-4edd-9784-3b21a6077b51",
   "metadata": {},
   "outputs": [
    {
     "data": {
      "text/plain": [
       "array([[10, 45, 21],\n",
       "       [22, 32, 34],\n",
       "       [ 7, 14, 16]])"
      ]
     },
     "execution_count": 98,
     "metadata": {},
     "output_type": "execute_result"
    }
   ],
   "source": [
    "arr1 + arr2"
   ]
  },
  {
   "cell_type": "code",
   "execution_count": 99,
   "id": "36dcb066-1b7c-489e-ba4b-2046d7c3d71c",
   "metadata": {},
   "outputs": [
    {
     "data": {
      "text/plain": [
       "array([[ 4, 39, 15],\n",
       "       [14, 28, 30],\n",
       "       [ 3, 12, 12]])"
      ]
     },
     "execution_count": 99,
     "metadata": {},
     "output_type": "execute_result"
    }
   ],
   "source": [
    "arr1 - arr2"
   ]
  },
  {
   "cell_type": "code",
   "execution_count": 100,
   "id": "69823939-5dd0-4e0e-9220-2289cfcf05c0",
   "metadata": {},
   "outputs": [
    {
     "data": {
      "text/plain": [
       "array([[ 21, 126,  54],\n",
       "       [ 72,  60,  64],\n",
       "       [ 10,  13,  28]])"
      ]
     },
     "execution_count": 100,
     "metadata": {},
     "output_type": "execute_result"
    }
   ],
   "source": [
    "arr1 * arr2"
   ]
  },
  {
   "cell_type": "code",
   "execution_count": 101,
   "id": "99d8f765-afcf-455f-aaf8-f538bb262220",
   "metadata": {},
   "outputs": [
    {
     "data": {
      "text/plain": [
       "array([[ 2.33333333, 14.        ,  6.        ],\n",
       "       [ 4.5       , 15.        , 16.        ],\n",
       "       [ 2.5       , 13.        ,  7.        ]])"
      ]
     },
     "execution_count": 101,
     "metadata": {},
     "output_type": "execute_result"
    }
   ],
   "source": [
    "arr1 / arr2"
   ]
  },
  {
   "cell_type": "code",
   "execution_count": 102,
   "id": "56f69766-ee3d-4933-9907-db13ad1d96ac",
   "metadata": {},
   "outputs": [
    {
     "data": {
      "text/plain": [
       "array([[1, 0, 0],\n",
       "       [2, 0, 0],\n",
       "       [1, 0, 0]])"
      ]
     },
     "execution_count": 102,
     "metadata": {},
     "output_type": "execute_result"
    }
   ],
   "source": [
    "arr1 % arr2"
   ]
  },
  {
   "cell_type": "code",
   "execution_count": 103,
   "id": "e7e34cb0-b0ab-4a15-967b-369e0469666d",
   "metadata": {},
   "outputs": [
    {
     "name": "stderr",
     "output_type": "stream",
     "text": [
      "/tmp/ipykernel_3935/1510032488.py:1: RuntimeWarning: divide by zero encountered in divide\n",
      "  arr1/0\n"
     ]
    },
    {
     "data": {
      "text/plain": [
       "array([[inf, inf, inf],\n",
       "       [inf, inf, inf],\n",
       "       [inf, inf, inf]])"
      ]
     },
     "execution_count": 103,
     "metadata": {},
     "output_type": "execute_result"
    }
   ],
   "source": [
    "arr1/0"
   ]
  },
  {
   "cell_type": "markdown",
   "id": "9c025487-56dc-47a2-a90d-f3aa6811858c",
   "metadata": {},
   "source": [
    "**`Matrix multiplication`**"
   ]
  },
  {
   "cell_type": "code",
   "execution_count": 105,
   "id": "ea4ff76c-a2f6-4d81-adb0-9b585f36ace8",
   "metadata": {},
   "outputs": [
    {
     "data": {
      "text/plain": [
       "array([[225, 123, 141],\n",
       "       [238, 146, 178],\n",
       "       [ 95,  55,  69]])"
      ]
     },
     "execution_count": 105,
     "metadata": {},
     "output_type": "execute_result"
    }
   ],
   "source": [
    "arr1 @ arr2"
   ]
  },
  {
   "cell_type": "markdown",
   "id": "1c743347-ac50-4cba-ab43-a5d6aebddfb7",
   "metadata": {},
   "source": [
    "**`Broadcasting`**"
   ]
  },
  {
   "cell_type": "code",
   "execution_count": 106,
   "id": "08b9da4e-3f51-42a3-979f-4cfc85bbe6ba",
   "metadata": {},
   "outputs": [
    {
     "data": {
      "text/plain": [
       "array([[ 4, 32,  6],\n",
       "       [ 4, 18, 32],\n",
       "       [ 2, 21,  4],\n",
       "       [11,  5, 27],\n",
       "       [15, 25, 26],\n",
       "       [23, 10, 20]])"
      ]
     },
     "execution_count": 106,
     "metadata": {},
     "output_type": "execute_result"
    }
   ],
   "source": [
    "arr"
   ]
  },
  {
   "cell_type": "code",
   "execution_count": 107,
   "id": "247d1530-6e94-4317-bf9e-04fec86afd58",
   "metadata": {},
   "outputs": [
    {
     "data": {
      "text/plain": [
       "array([[ 9, 37, 11],\n",
       "       [ 9, 23, 37],\n",
       "       [ 7, 26,  9],\n",
       "       [16, 10, 32],\n",
       "       [20, 30, 31],\n",
       "       [28, 15, 25]])"
      ]
     },
     "execution_count": 107,
     "metadata": {},
     "output_type": "execute_result"
    }
   ],
   "source": [
    "arr + 5"
   ]
  },
  {
   "cell_type": "code",
   "execution_count": 108,
   "id": "b197db52-1e65-4b8b-af55-0a22dc3ebce9",
   "metadata": {},
   "outputs": [
    {
     "data": {
      "text/plain": [
       "array([[ 8, 64, 12],\n",
       "       [ 8, 36, 64],\n",
       "       [ 4, 42,  8],\n",
       "       [22, 10, 54],\n",
       "       [30, 50, 52],\n",
       "       [46, 20, 40]])"
      ]
     },
     "execution_count": 108,
     "metadata": {},
     "output_type": "execute_result"
    }
   ],
   "source": [
    "arr * 2"
   ]
  },
  {
   "cell_type": "code",
   "execution_count": 109,
   "id": "89ed0566-5ae7-42bc-a300-bc7360698f9d",
   "metadata": {},
   "outputs": [
    {
     "data": {
      "text/plain": [
       "array([[ 2, 30,  4],\n",
       "       [ 2, 16, 30],\n",
       "       [ 0, 19,  2],\n",
       "       [ 9,  3, 25],\n",
       "       [13, 23, 24],\n",
       "       [21,  8, 18]])"
      ]
     },
     "execution_count": 109,
     "metadata": {},
     "output_type": "execute_result"
    }
   ],
   "source": [
    "arr - 2"
   ]
  },
  {
   "cell_type": "code",
   "execution_count": 110,
   "id": "3bed4554-36ae-4ea5-9c0d-c7a4e7cd3027",
   "metadata": {},
   "outputs": [],
   "source": [
    "a = np.array([[1,1,1]])"
   ]
  },
  {
   "cell_type": "code",
   "execution_count": 111,
   "id": "4fecbb7c-8c92-4e94-9042-75a646c6ceaf",
   "metadata": {},
   "outputs": [
    {
     "data": {
      "text/plain": [
       "array([[ 5, 33,  7],\n",
       "       [ 5, 19, 33],\n",
       "       [ 3, 22,  5],\n",
       "       [12,  6, 28],\n",
       "       [16, 26, 27],\n",
       "       [24, 11, 21]])"
      ]
     },
     "execution_count": 111,
     "metadata": {},
     "output_type": "execute_result"
    }
   ],
   "source": [
    "arr + a"
   ]
  },
  {
   "cell_type": "code",
   "execution_count": 115,
   "id": "f20eb63f-4c7b-4fa4-962c-db5f2273257e",
   "metadata": {},
   "outputs": [],
   "source": [
    "b = np.array([[3,3,3,3,3,3]])"
   ]
  },
  {
   "cell_type": "code",
   "execution_count": 116,
   "id": "843e499a-e05c-4c7c-bf76-2045def6df89",
   "metadata": {},
   "outputs": [
    {
     "data": {
      "text/plain": [
       "array([[ 7, 35,  9],\n",
       "       [ 7, 21, 35],\n",
       "       [ 5, 24,  7],\n",
       "       [14,  8, 30],\n",
       "       [18, 28, 29],\n",
       "       [26, 13, 23]])"
      ]
     },
     "execution_count": 116,
     "metadata": {},
     "output_type": "execute_result"
    }
   ],
   "source": [
    "arr + b.T"
   ]
  },
  {
   "cell_type": "markdown",
   "id": "0846a1d1-bd11-4c45-a9c6-d69a0f4177e4",
   "metadata": {},
   "source": [
    "**`Mathematical Equations`**"
   ]
  },
  {
   "cell_type": "code",
   "execution_count": 118,
   "id": "321becfc-cadd-482a-b3f5-a4be73d4a0ad",
   "metadata": {},
   "outputs": [
    {
     "data": {
      "text/plain": [
       "array([[2.        , 5.65685425, 2.44948974],\n",
       "       [2.        , 4.24264069, 5.65685425],\n",
       "       [1.41421356, 4.58257569, 2.        ],\n",
       "       [3.31662479, 2.23606798, 5.19615242],\n",
       "       [3.87298335, 5.        , 5.09901951],\n",
       "       [4.79583152, 3.16227766, 4.47213595]])"
      ]
     },
     "execution_count": 118,
     "metadata": {},
     "output_type": "execute_result"
    }
   ],
   "source": [
    "np.sqrt(arr)"
   ]
  },
  {
   "cell_type": "code",
   "execution_count": 119,
   "id": "d6258ca0-c2d2-4fb6-8511-8fca813f5f30",
   "metadata": {},
   "outputs": [
    {
     "data": {
      "text/plain": [
       "array([[  16, 1024,   36],\n",
       "       [  16,  324, 1024],\n",
       "       [   4,  441,   16],\n",
       "       [ 121,   25,  729],\n",
       "       [ 225,  625,  676],\n",
       "       [ 529,  100,  400]])"
      ]
     },
     "execution_count": 119,
     "metadata": {},
     "output_type": "execute_result"
    }
   ],
   "source": [
    "np.power(arr, 2)"
   ]
  },
  {
   "cell_type": "code",
   "execution_count": 120,
   "id": "c7824485-624b-477e-b4e8-bc3bdeb78e54",
   "metadata": {},
   "outputs": [
    {
     "data": {
      "text/plain": [
       "array([[5.45981500e+01, 7.89629602e+13, 4.03428793e+02],\n",
       "       [5.45981500e+01, 6.56599691e+07, 7.89629602e+13],\n",
       "       [7.38905610e+00, 1.31881573e+09, 5.45981500e+01],\n",
       "       [5.98741417e+04, 1.48413159e+02, 5.32048241e+11],\n",
       "       [3.26901737e+06, 7.20048993e+10, 1.95729609e+11],\n",
       "       [9.74480345e+09, 2.20264658e+04, 4.85165195e+08]])"
      ]
     },
     "execution_count": 120,
     "metadata": {},
     "output_type": "execute_result"
    }
   ],
   "source": [
    "np.exp(arr)"
   ]
  },
  {
   "cell_type": "code",
   "execution_count": 121,
   "id": "255e8365-2b5f-46fd-ac82-56ee05b3e4e2",
   "metadata": {},
   "outputs": [
    {
     "data": {
      "text/plain": [
       "array([[0.60205999, 1.50514998, 0.77815125],\n",
       "       [0.60205999, 1.25527251, 1.50514998],\n",
       "       [0.30103   , 1.32221929, 0.60205999],\n",
       "       [1.04139269, 0.69897   , 1.43136376],\n",
       "       [1.17609126, 1.39794001, 1.41497335],\n",
       "       [1.36172784, 1.        , 1.30103   ]])"
      ]
     },
     "execution_count": 121,
     "metadata": {},
     "output_type": "execute_result"
    }
   ],
   "source": [
    "np.log10(arr)"
   ]
  },
  {
   "cell_type": "code",
   "execution_count": 122,
   "id": "cd2207c4-a4cc-4778-b796-72816c7508ee",
   "metadata": {},
   "outputs": [
    {
     "data": {
      "text/plain": [
       "2"
      ]
     },
     "execution_count": 122,
     "metadata": {},
     "output_type": "execute_result"
    }
   ],
   "source": [
    "np.min(arr)"
   ]
  },
  {
   "cell_type": "code",
   "execution_count": 123,
   "id": "3cf1aea8-37fa-45aa-928b-343480b540c7",
   "metadata": {},
   "outputs": [
    {
     "data": {
      "text/plain": [
       "32"
      ]
     },
     "execution_count": 123,
     "metadata": {},
     "output_type": "execute_result"
    }
   ],
   "source": [
    "np.max(arr)"
   ]
  },
  {
   "cell_type": "code",
   "execution_count": 125,
   "id": "5baf87b5-551a-48eb-ba6e-865eb5f7192a",
   "metadata": {},
   "outputs": [
    {
     "data": {
      "text/plain": [
       "16.5"
      ]
     },
     "execution_count": 125,
     "metadata": {},
     "output_type": "execute_result"
    }
   ],
   "source": [
    "np.median(arr)"
   ]
  },
  {
   "cell_type": "code",
   "execution_count": 126,
   "id": "19bd619d-2dd6-419d-b09d-d0f3343c86dc",
   "metadata": {},
   "outputs": [
    {
     "data": {
      "text/plain": [
       "285"
      ]
     },
     "execution_count": 126,
     "metadata": {},
     "output_type": "execute_result"
    }
   ],
   "source": [
    "np.sum(arr)"
   ]
  },
  {
   "cell_type": "code",
   "execution_count": 127,
   "id": "0eb966c8-2f3b-426c-9bfa-a5b6c6e68d4b",
   "metadata": {},
   "outputs": [
    {
     "data": {
      "text/plain": [
       "array([ 59, 111, 115])"
      ]
     },
     "execution_count": 127,
     "metadata": {},
     "output_type": "execute_result"
    }
   ],
   "source": [
    "np.sum(arr, axis=0)"
   ]
  },
  {
   "cell_type": "code",
   "execution_count": 128,
   "id": "fb9253de-c8a7-4f1f-8614-5038f8b0ce69",
   "metadata": {},
   "outputs": [
    {
     "data": {
      "text/plain": [
       "array([42, 54, 27, 43, 66, 53])"
      ]
     },
     "execution_count": 128,
     "metadata": {},
     "output_type": "execute_result"
    }
   ],
   "source": [
    "np.sum(arr, axis = 1)"
   ]
  },
  {
   "cell_type": "code",
   "execution_count": 129,
   "id": "bf329616-5499-4770-a135-04e53bce0569",
   "metadata": {},
   "outputs": [
    {
     "data": {
      "text/plain": [
       "array([[-0.7568025 ,  0.55142668, -0.2794155 ],\n",
       "       [-0.7568025 , -0.75098725,  0.55142668],\n",
       "       [ 0.90929743,  0.83665564, -0.7568025 ],\n",
       "       [-0.99999021, -0.95892427,  0.95637593],\n",
       "       [ 0.65028784, -0.13235175,  0.76255845],\n",
       "       [-0.8462204 , -0.54402111,  0.91294525]])"
      ]
     },
     "execution_count": 129,
     "metadata": {},
     "output_type": "execute_result"
    }
   ],
   "source": [
    "np.sin(arr)"
   ]
  },
  {
   "cell_type": "code",
   "execution_count": 130,
   "id": "5fba1a07-312d-4421-8f33-2cf55b4652ca",
   "metadata": {},
   "outputs": [
    {
     "data": {
      "text/plain": [
       "array([[ 1.15782128e+00,  6.61006041e-01, -2.91006191e-01],\n",
       "       [ 1.15782128e+00, -1.13731371e+00,  6.61006041e-01],\n",
       "       [-2.18503986e+00, -1.52749853e+00,  1.15782128e+00],\n",
       "       [-2.25950846e+02, -3.38051501e+00, -3.27370380e+00],\n",
       "       [-8.55993401e-01, -1.33526407e-01,  1.17875355e+00],\n",
       "       [ 1.58815308e+00,  6.48360827e-01,  2.23716094e+00]])"
      ]
     },
     "execution_count": 130,
     "metadata": {},
     "output_type": "execute_result"
    }
   ],
   "source": [
    "np.tan(arr)"
   ]
  },
  {
   "cell_type": "code",
   "execution_count": 131,
   "id": "51188c87-7e8d-4b19-858f-4ebbc527762f",
   "metadata": {},
   "outputs": [
    {
     "data": {
      "text/plain": [
       "101.02777777777777"
      ]
     },
     "execution_count": 131,
     "metadata": {},
     "output_type": "execute_result"
    }
   ],
   "source": [
    "np.var(arr)"
   ]
  },
  {
   "cell_type": "code",
   "execution_count": 132,
   "id": "51fad4e8-443f-4bcd-8479-3a51a8baa178",
   "metadata": {},
   "outputs": [
    {
     "data": {
      "text/plain": [
       "10.051257522209735"
      ]
     },
     "execution_count": 132,
     "metadata": {},
     "output_type": "execute_result"
    }
   ],
   "source": [
    "np.std(arr)"
   ]
  },
  {
   "cell_type": "code",
   "execution_count": 133,
   "id": "53b80ac9-cfc7-420d-aa61-5d2202afd411",
   "metadata": {},
   "outputs": [
    {
     "data": {
      "text/plain": [
       "array([[ 244.        ,   14.        ,  163.        , -118.        ,\n",
       "          46.        , -105.        ],\n",
       "       [  14.        ,  196.        ,   14.        ,  112.        ,\n",
       "          77.        ,  -21.        ],\n",
       "       [ 163.        ,   14.        ,  109.        ,  -76.        ,\n",
       "          32.5       ,  -70.5       ],\n",
       "       [-118.        ,  112.        ,  -76.        ,  129.33333333,\n",
       "          23.        ,   41.66666667],\n",
       "       [  46.        ,   77.        ,   32.5       ,   23.        ,\n",
       "          37.        ,  -25.5       ],\n",
       "       [-105.        ,  -21.        ,  -70.5       ,   41.66666667,\n",
       "         -25.5       ,   46.33333333]])"
      ]
     },
     "execution_count": 133,
     "metadata": {},
     "output_type": "execute_result"
    }
   ],
   "source": [
    "np.cov(arr)"
   ]
  },
  {
   "cell_type": "markdown",
   "id": "067af2d8-ab42-4533-af7a-5f822e1d64f5",
   "metadata": {},
   "source": [
    "**`important function`**"
   ]
  },
  {
   "cell_type": "code",
   "execution_count": 135,
   "id": "c7718f96-8115-4604-934d-4f8661182bbb",
   "metadata": {},
   "outputs": [
    {
     "data": {
      "text/plain": [
       "array([[ 4, 32,  6],\n",
       "       [ 4, 18, 32],\n",
       "       [ 2, 21,  4],\n",
       "       [11,  5, 27],\n",
       "       [15, 25, 26],\n",
       "       [23, 10, 20]])"
      ]
     },
     "execution_count": 135,
     "metadata": {},
     "output_type": "execute_result"
    }
   ],
   "source": [
    "arr"
   ]
  },
  {
   "cell_type": "code",
   "execution_count": 136,
   "id": "1d42b59e-9641-4e4a-937e-3630cb355443",
   "metadata": {},
   "outputs": [
    {
     "data": {
      "text/plain": [
       "array([ 4, 32,  6,  4, 18, 32,  2, 21,  4, 11,  5, 27, 15, 25, 26, 23, 10,\n",
       "       20])"
      ]
     },
     "execution_count": 136,
     "metadata": {},
     "output_type": "execute_result"
    }
   ],
   "source": [
    "# convert any shape elements into single array\n",
    "arr.flatten()"
   ]
  },
  {
   "cell_type": "code",
   "execution_count": 137,
   "id": "1172ded0-f187-4e3c-94f0-dfe5f5941c72",
   "metadata": {},
   "outputs": [
    {
     "data": {
      "text/plain": [
       "array([[ 4, 32,  6],\n",
       "       [ 4, 18, 32],\n",
       "       [ 2, 21,  4],\n",
       "       [11,  5, 27],\n",
       "       [15, 25, 26],\n",
       "       [23, 10, 20]])"
      ]
     },
     "execution_count": 137,
     "metadata": {},
     "output_type": "execute_result"
    }
   ],
   "source": [
    "arr"
   ]
  },
  {
   "cell_type": "code",
   "execution_count": 138,
   "id": "b9ab7ea3-4b0e-4838-aca2-df43998b99e3",
   "metadata": {},
   "outputs": [
    {
     "data": {
      "text/plain": [
       "2"
      ]
     },
     "execution_count": 138,
     "metadata": {},
     "output_type": "execute_result"
    }
   ],
   "source": [
    "arr.ndim"
   ]
  },
  {
   "cell_type": "code",
   "execution_count": 141,
   "id": "43b6c48b-7986-45a9-b8c5-7ae79e97efba",
   "metadata": {},
   "outputs": [
    {
     "data": {
      "text/plain": [
       "array([[[ 4, 32,  6],\n",
       "        [ 4, 18, 32],\n",
       "        [ 2, 21,  4],\n",
       "        [11,  5, 27],\n",
       "        [15, 25, 26],\n",
       "        [23, 10, 20]]])"
      ]
     },
     "execution_count": 141,
     "metadata": {},
     "output_type": "execute_result"
    }
   ],
   "source": [
    "## Adding extra axis\n",
    "arr1 = np.expand_dims(arr, axis=0)\n",
    "arr1"
   ]
  },
  {
   "cell_type": "code",
   "execution_count": 142,
   "id": "8d657f4d-d740-4add-95dc-309c556bb7d1",
   "metadata": {},
   "outputs": [
    {
     "data": {
      "text/plain": [
       "array([1, 2, 3])"
      ]
     },
     "execution_count": 142,
     "metadata": {},
     "output_type": "execute_result"
    }
   ],
   "source": [
    "## Squeeze the data into single array\n",
    "data = np.array([[1], [2], [3]])\n",
    "np.squeeze(data)"
   ]
  },
  {
   "cell_type": "code",
   "execution_count": 144,
   "id": "14819d50-e0f5-4991-855c-5c32692608b7",
   "metadata": {},
   "outputs": [
    {
     "data": {
      "text/plain": [
       "array([1, 1, 1, 2, 2, 2, 3, 3, 3])"
      ]
     },
     "execution_count": 144,
     "metadata": {},
     "output_type": "execute_result"
    }
   ],
   "source": [
    "## repeat the array with k times\n",
    "np.repeat(data, 3)"
   ]
  },
  {
   "cell_type": "code",
   "execution_count": 155,
   "id": "58a7e69b-f3e9-4a14-a5f6-b6ed5511f1de",
   "metadata": {},
   "outputs": [
    {
     "data": {
      "text/plain": [
       "array([[1, 0, 0, 0, 0],\n",
       "       [0, 2, 0, 0, 0],\n",
       "       [0, 0, 3, 0, 0],\n",
       "       [0, 0, 0, 4, 0],\n",
       "       [0, 0, 0, 0, 5]])"
      ]
     },
     "execution_count": 155,
     "metadata": {},
     "output_type": "execute_result"
    }
   ],
   "source": [
    "## diagonal \n",
    "b = np.diag(np.array([1,2,3,4,5]))\n",
    "b"
   ]
  },
  {
   "cell_type": "code",
   "execution_count": 152,
   "id": "fc748bc3-39e4-4394-b79b-417d7218ee7d",
   "metadata": {},
   "outputs": [
    {
     "data": {
      "text/plain": [
       "array([2, 2, 5, 7, 9])"
      ]
     },
     "execution_count": 152,
     "metadata": {},
     "output_type": "execute_result"
    }
   ],
   "source": [
    "# sorting array\n",
    "a = [9, 5, 2, 7, 2]\n",
    "np.sort(a)"
   ]
  },
  {
   "cell_type": "code",
   "execution_count": 156,
   "id": "8bf844b6-cc3a-4b63-945d-d48aab1bcad5",
   "metadata": {},
   "outputs": [
    {
     "data": {
      "text/plain": [
       "5"
      ]
     },
     "execution_count": 156,
     "metadata": {},
     "output_type": "execute_result"
    }
   ],
   "source": [
    "# counting non zero elements\n",
    "np.count_nonzero(b)"
   ]
  },
  {
   "cell_type": "code",
   "execution_count": 159,
   "id": "7f6896f9-3ed8-4ee0-a887-4ef9630ce909",
   "metadata": {},
   "outputs": [
    {
     "data": {
      "text/plain": [
       "(array([0, 1, 2, 3, 4]), array([0, 1, 2, 3, 4]))"
      ]
     },
     "execution_count": 159,
     "metadata": {},
     "output_type": "execute_result"
    }
   ],
   "source": [
    "# where - apply conditions\n",
    "np.where(b > 0)"
   ]
  },
  {
   "cell_type": "markdown",
   "id": "6de55300-a2bd-40f0-9843-ad4e28aa3bbc",
   "metadata": {},
   "source": [
    "**`string operations`**"
   ]
  },
  {
   "cell_type": "code",
   "execution_count": 148,
   "id": "c18a87df-32bf-46e1-8417-46d0574a629a",
   "metadata": {},
   "outputs": [],
   "source": [
    "arr = np.array(['pras', 'nadi', 'sao'])"
   ]
  },
  {
   "cell_type": "code",
   "execution_count": 149,
   "id": "8d5aed06-e78c-453e-8220-e1c18901e4c1",
   "metadata": {},
   "outputs": [
    {
     "data": {
      "text/plain": [
       "array(['PRAS', 'NADI', 'SAO'], dtype='<U4')"
      ]
     },
     "execution_count": 149,
     "metadata": {},
     "output_type": "execute_result"
    }
   ],
   "source": [
    "np.char.upper(arr)"
   ]
  },
  {
   "cell_type": "code",
   "execution_count": 150,
   "id": "168c11ed-9ac5-486b-acd0-aaa954b18dbf",
   "metadata": {},
   "outputs": [
    {
     "data": {
      "text/plain": [
       "array(['Pras', 'Nadi', 'Sao'], dtype='<U4')"
      ]
     },
     "execution_count": 150,
     "metadata": {},
     "output_type": "execute_result"
    }
   ],
   "source": [
    "np.char.capitalize(arr)"
   ]
  },
  {
   "cell_type": "code",
   "execution_count": null,
   "id": "f4c85bf4-041e-4cb5-b110-f1d7e7134da5",
   "metadata": {},
   "outputs": [],
   "source": []
  }
 ],
 "metadata": {
  "kernelspec": {
   "display_name": "Python 3 (ipykernel)",
   "language": "python",
   "name": "python3"
  },
  "language_info": {
   "codemirror_mode": {
    "name": "ipython",
    "version": 3
   },
   "file_extension": ".py",
   "mimetype": "text/x-python",
   "name": "python",
   "nbconvert_exporter": "python",
   "pygments_lexer": "ipython3",
   "version": "3.10.8"
  }
 },
 "nbformat": 4,
 "nbformat_minor": 5
}
