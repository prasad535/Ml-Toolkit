{
 "cells": [
  {
   "cell_type": "markdown",
   "id": "a51ebc30-ab04-4b33-bbc0-087f44303f9a",
   "metadata": {},
   "source": [
    "# Numpy : Numerical Python\n",
    "\n",
    "- *library* - collection of collections\n",
    "- why? - functions are resuable and optimized"
   ]
  },
  {
   "cell_type": "code",
   "execution_count": 1,
   "id": "54586a78-bb75-4691-a087-15a888a1b288",
   "metadata": {},
   "outputs": [],
   "source": [
    "# Importing libraries\n",
    "import numpy as np"
   ]
  },
  {
   "cell_type": "code",
   "execution_count": 2,
   "id": "121cdb5e-d77b-423b-b9d9-71b639c20cda",
   "metadata": {},
   "outputs": [
    {
     "data": {
      "text/plain": [
       "'1.23.5'"
      ]
     },
     "execution_count": 2,
     "metadata": {},
     "output_type": "execute_result"
    }
   ],
   "source": [
    " np.__version__"
   ]
  },
  {
   "cell_type": "markdown",
   "id": "d6528f0f-ee2f-40c9-85cb-4068f4900f25",
   "metadata": {},
   "source": [
    "**why numpy**\n",
    "\n",
    "- mathematical equation\n",
    "- faster because built in c++"
   ]
  },
  {
   "cell_type": "code",
   "execution_count": 5,
   "id": "3b2fc8be-4b63-42d2-9dae-37d211788b62",
   "metadata": {},
   "outputs": [],
   "source": [
    "# list - collection of heterogeneous elements\n",
    "l = [1,2,3,4,5]"
   ]
  },
  {
   "cell_type": "code",
   "execution_count": 6,
   "id": "a730cac9-dac4-4baa-8c73-5c27293871c6",
   "metadata": {},
   "outputs": [],
   "source": [
    "arr = np.array(l)"
   ]
  },
  {
   "cell_type": "code",
   "execution_count": 7,
   "id": "f1af55cc-8b36-474f-b300-9bcb0763f29e",
   "metadata": {},
   "outputs": [
    {
     "data": {
      "text/plain": [
       "array([1, 2, 3, 4, 5])"
      ]
     },
     "execution_count": 7,
     "metadata": {},
     "output_type": "execute_result"
    }
   ],
   "source": [
    "arr"
   ]
  },
  {
   "cell_type": "code",
   "execution_count": 9,
   "id": "0c35a8a0-4a70-46f0-9573-84dcd7fa4fb7",
   "metadata": {},
   "outputs": [
    {
     "data": {
      "text/plain": [
       "numpy.ndarray"
      ]
     },
     "execution_count": 9,
     "metadata": {},
     "output_type": "execute_result"
    }
   ],
   "source": [
    "type(arr)\n",
    "\n",
    "# ndarray - n dimensional array\n",
    "# ndarray - it stores the same type of data"
   ]
  },
  {
   "cell_type": "code",
   "execution_count": 10,
   "id": "386ad2f3-0814-4cc8-aec8-fef108065bd1",
   "metadata": {},
   "outputs": [
    {
     "data": {
      "text/plain": [
       "1"
      ]
     },
     "execution_count": 10,
     "metadata": {},
     "output_type": "execute_result"
    }
   ],
   "source": [
    "arr.ndim"
   ]
  },
  {
   "cell_type": "code",
   "execution_count": 11,
   "id": "ec7b5f72-b28e-42c6-b895-0d85fba681bc",
   "metadata": {},
   "outputs": [],
   "source": [
    "l2 = [1,2,4,5, 'prasad']\n",
    "\n",
    "arr2 = np.array(l2)"
   ]
  },
  {
   "cell_type": "code",
   "execution_count": 13,
   "id": "bf0d8e0a-abb4-4f6a-a315-65be3f5b932f",
   "metadata": {},
   "outputs": [
    {
     "data": {
      "text/plain": [
       "array(['1', '2', '4', '5', 'prasad'], dtype='<U21')"
      ]
     },
     "execution_count": 13,
     "metadata": {},
     "output_type": "execute_result"
    }
   ],
   "source": [
    "arr2\n",
    "## We have one string in the input, but result is converted all elements into strings"
   ]
  },
  {
   "cell_type": "code",
   "execution_count": 16,
   "id": "b286c32f-1642-4e3a-bf1a-1d2ef67ef4a4",
   "metadata": {},
   "outputs": [],
   "source": [
    "arr3 = np.array([[1,2,3,], [4,5,6]])"
   ]
  },
  {
   "cell_type": "code",
   "execution_count": 17,
   "id": "e5787111-88e5-44a1-9f21-825b80bdb4c3",
   "metadata": {},
   "outputs": [
    {
     "data": {
      "text/plain": [
       "array([[1, 2, 3],\n",
       "       [4, 5, 6]])"
      ]
     },
     "execution_count": 17,
     "metadata": {},
     "output_type": "execute_result"
    }
   ],
   "source": [
    "arr3"
   ]
  },
  {
   "cell_type": "code",
   "execution_count": 18,
   "id": "bf1f9cbd-c2ca-47ff-89b0-11dcdf3a754d",
   "metadata": {},
   "outputs": [
    {
     "data": {
      "text/plain": [
       "2"
      ]
     },
     "execution_count": 18,
     "metadata": {},
     "output_type": "execute_result"
    }
   ],
   "source": [
    "arr3.ndim"
   ]
  },
  {
   "cell_type": "code",
   "execution_count": 20,
   "id": "4cf8aaab-3ae7-4ec9-9b1e-978b31e9e637",
   "metadata": {},
   "outputs": [],
   "source": [
    "l3 = [10,20,30,40]"
   ]
  },
  {
   "cell_type": "code",
   "execution_count": 25,
   "id": "208380a6-6d46-448d-b989-e081fc902ce8",
   "metadata": {},
   "outputs": [],
   "source": [
    "mat = np.matrix(l3)   # always matrics is 2d"
   ]
  },
  {
   "cell_type": "code",
   "execution_count": 26,
   "id": "e8460a56-13a5-4368-8a03-dc789906e004",
   "metadata": {},
   "outputs": [
    {
     "data": {
      "text/plain": [
       "matrix([[10, 20, 30, 40]])"
      ]
     },
     "execution_count": 26,
     "metadata": {},
     "output_type": "execute_result"
    }
   ],
   "source": [
    "mat"
   ]
  },
  {
   "cell_type": "code",
   "execution_count": 23,
   "id": "faad98a4-c4f6-4668-9d74-7abc1f900467",
   "metadata": {},
   "outputs": [
    {
     "data": {
      "text/plain": [
       "array([1, 3, 4])"
      ]
     },
     "execution_count": 23,
     "metadata": {},
     "output_type": "execute_result"
    }
   ],
   "source": [
    "## instead of np.array previsouly np.asarray\n",
    "np.asarray([1,3,4])"
   ]
  },
  {
   "cell_type": "code",
   "execution_count": 24,
   "id": "09414e32-beac-44bf-9330-93decbfda30e",
   "metadata": {},
   "outputs": [
    {
     "data": {
      "text/plain": [
       "array([[[[1, 2],\n",
       "         [3, 4]]]])"
      ]
     },
     "execution_count": 24,
     "metadata": {},
     "output_type": "execute_result"
    }
   ],
   "source": [
    "## alternative method to create array\n",
    "np.asanyarray([[[(1,2), (3,4)]]])"
   ]
  },
  {
   "cell_type": "code",
   "execution_count": 28,
   "id": "4b157e03-649c-4b3d-b620-2b3dc3cd1183",
   "metadata": {},
   "outputs": [
    {
     "data": {
      "text/plain": [
       "matrix([[10, 20, 30, 40]])"
      ]
     },
     "execution_count": 28,
     "metadata": {},
     "output_type": "execute_result"
    }
   ],
   "source": [
    "np.asanyarray(mat) # mat is already subclass array so it wont convert to nd array again"
   ]
  },
  {
   "cell_type": "code",
   "execution_count": 34,
   "id": "b8355d2b-42be-42b9-985d-8c0b4be5b4fb",
   "metadata": {},
   "outputs": [],
   "source": [
    "## shallow copy\n",
    "\n",
    "arr4 = np.array([1,2,3])\n",
    "arr5 = arr4"
   ]
  },
  {
   "cell_type": "code",
   "execution_count": 36,
   "id": "7acb78e9-fc11-4492-be17-39305e5abe08",
   "metadata": {},
   "outputs": [],
   "source": [
    "arr5[0] = 1000"
   ]
  },
  {
   "cell_type": "code",
   "execution_count": 38,
   "id": "64e75ee7-a99b-4d76-8b81-b85197912433",
   "metadata": {},
   "outputs": [
    {
     "data": {
      "text/plain": [
       "array([1000,    2,    3])"
      ]
     },
     "execution_count": 38,
     "metadata": {},
     "output_type": "execute_result"
    }
   ],
   "source": [
    "arr5"
   ]
  },
  {
   "cell_type": "code",
   "execution_count": 39,
   "id": "9e4f8216-b84e-42dd-ac67-2725dbc6dd96",
   "metadata": {},
   "outputs": [
    {
     "data": {
      "text/plain": [
       "array([1000,    2,    3])"
      ]
     },
     "execution_count": 39,
     "metadata": {},
     "output_type": "execute_result"
    }
   ],
   "source": [
    "arr4"
   ]
  },
  {
   "cell_type": "code",
   "execution_count": 41,
   "id": "d3c4b21a-83d6-419c-bdda-f74ee0b7b19c",
   "metadata": {},
   "outputs": [],
   "source": [
    "## Deep copy \n",
    "\n",
    "arr6 = np.array([10,20,30])\n",
    "\n",
    "arr7 = arr6.copy()"
   ]
  },
  {
   "cell_type": "code",
   "execution_count": 42,
   "id": "2653cc81-fe23-44a1-a4fc-6d2fb1e12c1c",
   "metadata": {},
   "outputs": [],
   "source": [
    "arr6[2] = 5000"
   ]
  },
  {
   "cell_type": "code",
   "execution_count": 43,
   "id": "3be62460-d4ec-42d6-a0cf-32288e59b46a",
   "metadata": {},
   "outputs": [
    {
     "data": {
      "text/plain": [
       "array([  10,   20, 5000])"
      ]
     },
     "execution_count": 43,
     "metadata": {},
     "output_type": "execute_result"
    }
   ],
   "source": [
    "arr6"
   ]
  },
  {
   "cell_type": "code",
   "execution_count": 44,
   "id": "f23d88b5-d5e3-49ea-9273-43374a6f1b67",
   "metadata": {},
   "outputs": [
    {
     "data": {
      "text/plain": [
       "array([10, 20, 30])"
      ]
     },
     "execution_count": 44,
     "metadata": {},
     "output_type": "execute_result"
    }
   ],
   "source": [
    "arr7"
   ]
  },
  {
   "cell_type": "code",
   "execution_count": 49,
   "id": "45b041e1-7af9-4c28-8bd7-03a9cff6103d",
   "metadata": {},
   "outputs": [],
   "source": [
    "## fromfunction\n",
    "\n",
    "func = np.fromfunction(lambda i,j: i==j, shape=(3,3))"
   ]
  },
  {
   "cell_type": "code",
   "execution_count": 50,
   "id": "f472af67-8e25-4949-9d54-d663603c9ad4",
   "metadata": {},
   "outputs": [
    {
     "data": {
      "text/plain": [
       "(3, 3)"
      ]
     },
     "execution_count": 50,
     "metadata": {},
     "output_type": "execute_result"
    }
   ],
   "source": [
    "func.shape"
   ]
  },
  {
   "cell_type": "code",
   "execution_count": 51,
   "id": "fb90ac1a-f2ef-4969-a000-5e8364ec7968",
   "metadata": {},
   "outputs": [
    {
     "data": {
      "text/plain": [
       "2"
      ]
     },
     "execution_count": 51,
     "metadata": {},
     "output_type": "execute_result"
    }
   ],
   "source": [
    "func.ndim"
   ]
  },
  {
   "cell_type": "code",
   "execution_count": 52,
   "id": "5b75f822-d687-4d78-a85c-fc8b85f978ef",
   "metadata": {},
   "outputs": [
    {
     "data": {
      "text/plain": [
       "array([[ True, False, False],\n",
       "       [False,  True, False],\n",
       "       [False, False,  True]])"
      ]
     },
     "execution_count": 52,
     "metadata": {},
     "output_type": "execute_result"
    }
   ],
   "source": [
    "func"
   ]
  },
  {
   "cell_type": "code",
   "execution_count": 54,
   "id": "642528c4-aecf-4f4d-9381-d76ad201acd1",
   "metadata": {},
   "outputs": [
    {
     "data": {
      "text/plain": [
       "9"
      ]
     },
     "execution_count": 54,
     "metadata": {},
     "output_type": "execute_result"
    }
   ],
   "source": [
    "func.size"
   ]
  },
  {
   "cell_type": "code",
   "execution_count": 58,
   "id": "efb52de3-66de-4a79-84ce-2e574ea4b8b2",
   "metadata": {},
   "outputs": [
    {
     "data": {
      "text/plain": [
       "array([0., 1., 2., 3., 4.])"
      ]
     },
     "execution_count": 58,
     "metadata": {},
     "output_type": "execute_result"
    }
   ],
   "source": [
    "## fromiter\n",
    "iterable = range(5)\n",
    "it = np.fromiter(iterable, float)\n",
    "it"
   ]
  },
  {
   "cell_type": "code",
   "execution_count": 59,
   "id": "53f1b9f7-b5af-4b52-a445-fc81785da142",
   "metadata": {},
   "outputs": [
    {
     "data": {
      "text/plain": [
       "array([23., 34., 67.])"
      ]
     },
     "execution_count": 59,
     "metadata": {},
     "output_type": "execute_result"
    }
   ],
   "source": [
    "# fromstring\n",
    "np.fromstring(\"23 34 67\", sep=\" \")"
   ]
  },
  {
   "cell_type": "code",
   "execution_count": 60,
   "id": "3da9db8b-774d-404d-b4ed-b5a92c32affb",
   "metadata": {},
   "outputs": [
    {
     "data": {
      "text/plain": [
       "array([1., 1., 1., 1., 1.])"
      ]
     },
     "execution_count": 60,
     "metadata": {},
     "output_type": "execute_result"
    }
   ],
   "source": [
    "np.fromstring(\"1;1;1;1;1\", sep=\";\")"
   ]
  },
  {
   "cell_type": "code",
   "execution_count": 61,
   "id": "c19aa485-705f-47b8-a3b3-ca644baeaadc",
   "metadata": {},
   "outputs": [
    {
     "data": {
      "text/plain": [
       "array([0.1, 0.3, 0.5, 0.7, 0.9, 1.1, 1.3, 1.5, 1.7, 1.9, 2.1, 2.3, 2.5,\n",
       "       2.7, 2.9, 3.1, 3.3, 3.5])"
      ]
     },
     "execution_count": 61,
     "metadata": {},
     "output_type": "execute_result"
    }
   ],
   "source": [
    "# arange\n",
    "np.arange(0.1, 3.6, 0.2)"
   ]
  },
  {
   "cell_type": "code",
   "execution_count": 66,
   "id": "d6ff36e6-d2bb-44e7-9630-a72e622fb566",
   "metadata": {},
   "outputs": [
    {
     "data": {
      "text/plain": [
       "array([1.        , 1.44444444, 1.88888889, 2.33333333, 2.77777778,\n",
       "       3.22222222, 3.66666667, 4.11111111, 4.55555556, 5.        ])"
      ]
     },
     "execution_count": 66,
     "metadata": {},
     "output_type": "execute_result"
    }
   ],
   "source": [
    "# linspace\n",
    "np.linspace(1,5,10)"
   ]
  },
  {
   "cell_type": "code",
   "execution_count": 67,
   "id": "6cbf758c-9841-4998-b770-ee850c2b7cc7",
   "metadata": {},
   "outputs": [
    {
     "data": {
      "text/plain": [
       "array([ 2.        ,  2.72158   ,  3.70349885,  5.0396842 ,  6.85795186,\n",
       "        9.33223232, 12.69920842, 17.28095582, 23.51575188, 32.        ])"
      ]
     },
     "execution_count": 67,
     "metadata": {},
     "output_type": "execute_result"
    }
   ],
   "source": [
    "# logspace\n",
    "np.logspace(1,5, 10, base=2)"
   ]
  },
  {
   "cell_type": "code",
   "execution_count": 68,
   "id": "7806bc6e-a1bf-4c41-a38e-8bd4be2c8691",
   "metadata": {},
   "outputs": [
    {
     "data": {
      "text/plain": [
       "array([0., 0., 0., 0., 0.])"
      ]
     },
     "execution_count": 68,
     "metadata": {},
     "output_type": "execute_result"
    }
   ],
   "source": [
    "# zeros\n",
    "np.zeros(5)"
   ]
  },
  {
   "cell_type": "code",
   "execution_count": 70,
   "id": "a2869db6-7275-4881-b542-4382963ea1ce",
   "metadata": {},
   "outputs": [
    {
     "data": {
      "text/plain": [
       "array([[0., 0.],\n",
       "       [0., 0.]])"
      ]
     },
     "execution_count": 70,
     "metadata": {},
     "output_type": "execute_result"
    }
   ],
   "source": [
    "np.zeros((2,2))"
   ]
  },
  {
   "cell_type": "code",
   "execution_count": 75,
   "id": "89f9fa2a-c260-4bc9-ae59-7b4cb3dc38da",
   "metadata": {},
   "outputs": [
    {
     "data": {
      "text/plain": [
       "array([[[0.],\n",
       "        [0.]],\n",
       "\n",
       "       [[0.],\n",
       "        [0.]]])"
      ]
     },
     "execution_count": 75,
     "metadata": {},
     "output_type": "execute_result"
    }
   ],
   "source": [
    "np.zeros((2,2,1))"
   ]
  },
  {
   "cell_type": "code",
   "execution_count": 78,
   "id": "e5f04cf0-e378-42f1-ab2c-0da2440a636a",
   "metadata": {},
   "outputs": [
    {
     "data": {
      "text/plain": [
       "array([[[[0.],\n",
       "         [0.]],\n",
       "\n",
       "        [[0.],\n",
       "         [0.]]],\n",
       "\n",
       "\n",
       "       [[[0.],\n",
       "         [0.]],\n",
       "\n",
       "        [[0.],\n",
       "         [0.]]]])"
      ]
     },
     "execution_count": 78,
     "metadata": {},
     "output_type": "execute_result"
    }
   ],
   "source": [
    "np.zeros((2, 2,2,1))"
   ]
  },
  {
   "cell_type": "code",
   "execution_count": 79,
   "id": "7292dd9d-ffc2-4265-82a3-c1156c082a99",
   "metadata": {},
   "outputs": [
    {
     "data": {
      "text/plain": [
       "array([1., 1., 1., 1., 1.])"
      ]
     },
     "execution_count": 79,
     "metadata": {},
     "output_type": "execute_result"
    }
   ],
   "source": [
    "# ones\n",
    "np.ones(5)"
   ]
  },
  {
   "cell_type": "code",
   "execution_count": 80,
   "id": "9bcd64b7-262d-4273-82f0-ce7fbb27e796",
   "metadata": {},
   "outputs": [
    {
     "data": {
      "text/plain": [
       "array([[1., 1., 1.],\n",
       "       [1., 1., 1.],\n",
       "       [1., 1., 1.]])"
      ]
     },
     "execution_count": 80,
     "metadata": {},
     "output_type": "execute_result"
    }
   ],
   "source": [
    "np.ones((3,3))"
   ]
  },
  {
   "cell_type": "code",
   "execution_count": 81,
   "id": "ea97d252-9585-4148-b6e0-a1b3abc4b898",
   "metadata": {},
   "outputs": [],
   "source": [
    "arr = np.ones((2,2))"
   ]
  },
  {
   "cell_type": "code",
   "execution_count": 82,
   "id": "50c9173f-8879-4d64-9d8f-2242cb1d5d06",
   "metadata": {},
   "outputs": [
    {
     "data": {
      "text/plain": [
       "array([[6., 6.],\n",
       "       [6., 6.]])"
      ]
     },
     "execution_count": 82,
     "metadata": {},
     "output_type": "execute_result"
    }
   ],
   "source": [
    "arr + 5"
   ]
  },
  {
   "cell_type": "code",
   "execution_count": 83,
   "id": "034aeb9c-43f5-4532-8a55-7281ca019187",
   "metadata": {},
   "outputs": [
    {
     "data": {
      "text/plain": [
       "array([[2., 2.],\n",
       "       [2., 2.]])"
      ]
     },
     "execution_count": 83,
     "metadata": {},
     "output_type": "execute_result"
    }
   ],
   "source": [
    "arr * 2"
   ]
  },
  {
   "cell_type": "code",
   "execution_count": 84,
   "id": "cd82f7d3-02cd-4d3a-9f94-a2bec2018028",
   "metadata": {},
   "outputs": [
    {
     "data": {
      "text/plain": [
       "array([[0., 0.],\n",
       "       [0., 0.]])"
      ]
     },
     "execution_count": 84,
     "metadata": {},
     "output_type": "execute_result"
    }
   ],
   "source": [
    "arr - 1"
   ]
  },
  {
   "cell_type": "code",
   "execution_count": 85,
   "id": "969775e8-b5c6-42d1-b9fb-0805013e9529",
   "metadata": {},
   "outputs": [
    {
     "data": {
      "text/plain": [
       "array([[0.5, 0.5],\n",
       "       [0.5, 0.5]])"
      ]
     },
     "execution_count": 85,
     "metadata": {},
     "output_type": "execute_result"
    }
   ],
   "source": [
    "arr / 2"
   ]
  },
  {
   "cell_type": "markdown",
   "id": "4494728e-57fa-444f-8e7f-a53901e68ebe",
   "metadata": {},
   "source": [
    "## Interview Questions\n",
    "\n",
    "- what is numpy ?\n",
    "- array\n",
    "- list vs array\n",
    "- why array is faster than list ?\n",
    "    - list elements are stored the locations of the elements not actually elements. it means list using the references\n",
    "    - in list, when do append it will create a copt=y of original with new elements, so its use more memory\n",
    "    - But, in array the size is static and same data type. so its faster, its support vectorization\n",
    "    "
   ]
  },
  {
   "cell_type": "code",
   "execution_count": null,
   "id": "cec048f3-f2b9-4ea1-a424-87e740baff82",
   "metadata": {},
   "outputs": [],
   "source": []
  }
 ],
 "metadata": {
  "kernelspec": {
   "display_name": "Python 3 (ipykernel)",
   "language": "python",
   "name": "python3"
  },
  "language_info": {
   "codemirror_mode": {
    "name": "ipython",
    "version": 3
   },
   "file_extension": ".py",
   "mimetype": "text/x-python",
   "name": "python",
   "nbconvert_exporter": "python",
   "pygments_lexer": "ipython3",
   "version": "3.10.8"
  }
 },
 "nbformat": 4,
 "nbformat_minor": 5
}
