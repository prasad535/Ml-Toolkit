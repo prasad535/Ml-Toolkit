{
 "cells": [
  {
   "cell_type": "code",
   "execution_count": 1,
   "id": "d5797632-763d-4300-9cf8-97ec10ac1697",
   "metadata": {},
   "outputs": [],
   "source": [
    "import numpy as np"
   ]
  },
  {
   "cell_type": "code",
   "execution_count": 2,
   "id": "356b3b98-e38b-4384-b256-fc2804cea1f6",
   "metadata": {},
   "outputs": [],
   "source": [
    "l = [1,2,3,4]"
   ]
  },
  {
   "cell_type": "code",
   "execution_count": 3,
   "id": "5c0ff498-acaf-482c-b0ba-3634dcf57eab",
   "metadata": {},
   "outputs": [
    {
     "data": {
      "text/plain": [
       "array([1, 2, 3, 4])"
      ]
     },
     "execution_count": 3,
     "metadata": {},
     "output_type": "execute_result"
    }
   ],
   "source": [
    "np.array(l)"
   ]
  },
  {
   "cell_type": "code",
   "execution_count": 4,
   "id": "e707eb67-8015-450d-a6f8-07886d8bb41c",
   "metadata": {},
   "outputs": [],
   "source": [
    "arr = np.array(l)"
   ]
  },
  {
   "cell_type": "code",
   "execution_count": 5,
   "id": "b6853790-f769-4db3-a71f-83ad32bd5ce6",
   "metadata": {},
   "outputs": [
    {
     "data": {
      "text/plain": [
       "numpy.ndarray"
      ]
     },
     "execution_count": 5,
     "metadata": {},
     "output_type": "execute_result"
    }
   ],
   "source": [
    "type(arr)"
   ]
  },
  {
   "cell_type": "code",
   "execution_count": 6,
   "id": "28dd88de-028a-4f4b-8187-738d8f64e643",
   "metadata": {},
   "outputs": [
    {
     "data": {
      "text/plain": [
       "array([1, 2, 3, 4])"
      ]
     },
     "execution_count": 6,
     "metadata": {},
     "output_type": "execute_result"
    }
   ],
   "source": [
    "np.asarray(l)"
   ]
  },
  {
   "cell_type": "code",
   "execution_count": 8,
   "id": "a2f137dc-9be7-4ba2-91bd-650918a2ace6",
   "metadata": {},
   "outputs": [],
   "source": [
    "arr1 = np.array([[1,2,3], [1,2,3]])"
   ]
  },
  {
   "cell_type": "code",
   "execution_count": 10,
   "id": "723dc23c-7c19-437c-af50-5fbdf8c94848",
   "metadata": {},
   "outputs": [
    {
     "data": {
      "text/plain": [
       "1"
      ]
     },
     "execution_count": 10,
     "metadata": {},
     "output_type": "execute_result"
    }
   ],
   "source": [
    "arr.ndim"
   ]
  },
  {
   "cell_type": "code",
   "execution_count": 11,
   "id": "2e46023f-0761-45df-a713-4ee3854c938d",
   "metadata": {},
   "outputs": [
    {
     "data": {
      "text/plain": [
       "2"
      ]
     },
     "execution_count": 11,
     "metadata": {},
     "output_type": "execute_result"
    }
   ],
   "source": [
    "arr1.ndim"
   ]
  },
  {
   "cell_type": "code",
   "execution_count": 13,
   "id": "846af913-db6b-4070-b931-743c8df01990",
   "metadata": {},
   "outputs": [],
   "source": [
    "mat =np.matrix(l)"
   ]
  },
  {
   "cell_type": "code",
   "execution_count": 14,
   "id": "54af6912-63f9-4071-bb4e-661f898d225f",
   "metadata": {},
   "outputs": [
    {
     "data": {
      "text/plain": [
       "matrix([[1, 2, 3, 4]])"
      ]
     },
     "execution_count": 14,
     "metadata": {},
     "output_type": "execute_result"
    }
   ],
   "source": [
    "np.asanyarray(mat)"
   ]
  },
  {
   "cell_type": "code",
   "execution_count": 15,
   "id": "cddaa5ce-0a92-458f-9025-ed49e2ba69e0",
   "metadata": {},
   "outputs": [
    {
     "data": {
      "text/plain": [
       "array([1, 2, 3, 4])"
      ]
     },
     "execution_count": 15,
     "metadata": {},
     "output_type": "execute_result"
    }
   ],
   "source": [
    "arr"
   ]
  },
  {
   "cell_type": "code",
   "execution_count": 16,
   "id": "14eec92b-b92f-4969-87cd-e4999c380bd6",
   "metadata": {},
   "outputs": [],
   "source": [
    "a = arr"
   ]
  },
  {
   "cell_type": "code",
   "execution_count": 17,
   "id": "8b05c02a-4c9b-46cc-a973-bd40f72b3b0f",
   "metadata": {},
   "outputs": [
    {
     "data": {
      "text/plain": [
       "array([1, 2, 3, 4])"
      ]
     },
     "execution_count": 17,
     "metadata": {},
     "output_type": "execute_result"
    }
   ],
   "source": [
    "a"
   ]
  },
  {
   "cell_type": "code",
   "execution_count": 18,
   "id": "3e1883fd-a51e-4a12-a103-a516eb1f3d1f",
   "metadata": {},
   "outputs": [],
   "source": [
    "arr[0] = 100"
   ]
  },
  {
   "cell_type": "code",
   "execution_count": 19,
   "id": "63bebb5d-356c-44ae-a35a-5c70a01bbde5",
   "metadata": {},
   "outputs": [
    {
     "data": {
      "text/plain": [
       "array([100,   2,   3,   4])"
      ]
     },
     "execution_count": 19,
     "metadata": {},
     "output_type": "execute_result"
    }
   ],
   "source": [
    "arr"
   ]
  },
  {
   "cell_type": "code",
   "execution_count": 20,
   "id": "171e7879-636e-4c08-bd6e-bd9c984b3a3f",
   "metadata": {},
   "outputs": [
    {
     "data": {
      "text/plain": [
       "array([100,   2,   3,   4])"
      ]
     },
     "execution_count": 20,
     "metadata": {},
     "output_type": "execute_result"
    }
   ],
   "source": [
    "a"
   ]
  },
  {
   "cell_type": "code",
   "execution_count": 21,
   "id": "59728fa1-6abe-429d-b7e4-e2dd92c878cf",
   "metadata": {},
   "outputs": [],
   "source": [
    "b = np.copy(arr)"
   ]
  },
  {
   "cell_type": "code",
   "execution_count": 22,
   "id": "858f986a-e2d2-4cf0-a026-ca3a80183ffe",
   "metadata": {},
   "outputs": [],
   "source": [
    "b[0] = 234"
   ]
  },
  {
   "cell_type": "code",
   "execution_count": 23,
   "id": "f3585817-18ca-466f-bbb2-48f270ba2a48",
   "metadata": {},
   "outputs": [
    {
     "data": {
      "text/plain": [
       "array([234,   2,   3,   4])"
      ]
     },
     "execution_count": 23,
     "metadata": {},
     "output_type": "execute_result"
    }
   ],
   "source": [
    "b"
   ]
  },
  {
   "cell_type": "code",
   "execution_count": 24,
   "id": "e1308658-c7af-413a-973d-5cd3b338a57d",
   "metadata": {},
   "outputs": [
    {
     "data": {
      "text/plain": [
       "array([100,   2,   3,   4])"
      ]
     },
     "execution_count": 24,
     "metadata": {},
     "output_type": "execute_result"
    }
   ],
   "source": [
    "arr"
   ]
  },
  {
   "cell_type": "code",
   "execution_count": 25,
   "id": "2a09c45a-b010-49d9-9507-f64b8bfee9e2",
   "metadata": {},
   "outputs": [
    {
     "data": {
      "text/plain": [
       "array([[ True, False, False],\n",
       "       [False,  True, False],\n",
       "       [False, False,  True]])"
      ]
     },
     "execution_count": 25,
     "metadata": {},
     "output_type": "execute_result"
    }
   ],
   "source": [
    "np.fromfunction(lambda i,j: i==j, (3,3))"
   ]
  },
  {
   "cell_type": "code",
   "execution_count": 26,
   "id": "9145f21e-53ef-4f43-be3f-ad064446e68a",
   "metadata": {},
   "outputs": [
    {
     "data": {
      "text/plain": [
       "array([[0., 0., 0.],\n",
       "       [0., 1., 2.],\n",
       "       [0., 2., 4.]])"
      ]
     },
     "execution_count": 26,
     "metadata": {},
     "output_type": "execute_result"
    }
   ],
   "source": [
    "np.fromfunction(lambda i,j: i*j, (3,3))"
   ]
  },
  {
   "cell_type": "code",
   "execution_count": 29,
   "id": "7b158992-d245-43e4-860d-be33f6074ec1",
   "metadata": {},
   "outputs": [
    {
     "data": {
      "text/plain": [
       "[0, 1, 4, 9, 16]"
      ]
     },
     "execution_count": 29,
     "metadata": {},
     "output_type": "execute_result"
    }
   ],
   "source": [
    "list((i*i for i in range(0,5)))"
   ]
  },
  {
   "cell_type": "code",
   "execution_count": 30,
   "id": "bf2e6a80-fab4-4702-a549-f558a83004ba",
   "metadata": {},
   "outputs": [],
   "source": [
    "iterable = (i*i for i in range(5))"
   ]
  },
  {
   "cell_type": "code",
   "execution_count": 31,
   "id": "a339ca86-a8f9-4b3d-bd5f-c4f1224db679",
   "metadata": {},
   "outputs": [
    {
     "data": {
      "text/plain": [
       "array([ 0.,  1.,  4.,  9., 16.])"
      ]
     },
     "execution_count": 31,
     "metadata": {},
     "output_type": "execute_result"
    }
   ],
   "source": [
    "np.fromiter(iterable, float)"
   ]
  },
  {
   "cell_type": "code",
   "execution_count": 32,
   "id": "8180c522-ad9e-4254-97e2-e27ce6a1704d",
   "metadata": {},
   "outputs": [
    {
     "data": {
      "text/plain": [
       "array([23., 45., 35.])"
      ]
     },
     "execution_count": 32,
     "metadata": {},
     "output_type": "execute_result"
    }
   ],
   "source": [
    "np.fromstring(\"23 45 35\", sep=\" \")"
   ]
  },
  {
   "cell_type": "code",
   "execution_count": 33,
   "id": "1f57c63b-1d74-452b-ac08-5fb03c570ca9",
   "metadata": {},
   "outputs": [
    {
     "data": {
      "text/plain": [
       "array([23., 45., 35.])"
      ]
     },
     "execution_count": 33,
     "metadata": {},
     "output_type": "execute_result"
    }
   ],
   "source": [
    "np.fromstring(\"23,45,35\", sep=\",\")"
   ]
  },
  {
   "cell_type": "code",
   "execution_count": 34,
   "id": "5dd29a80-b5b3-404d-b88e-c61f67bb56ac",
   "metadata": {},
   "outputs": [
    {
     "data": {
      "text/plain": [
       "array([100,   2,   3,   4])"
      ]
     },
     "execution_count": 34,
     "metadata": {},
     "output_type": "execute_result"
    }
   ],
   "source": [
    "arr"
   ]
  },
  {
   "cell_type": "code",
   "execution_count": 35,
   "id": "0d1b5222-cdd1-44fb-8097-4b18b3421ebc",
   "metadata": {},
   "outputs": [
    {
     "data": {
      "text/plain": [
       "array([[1, 2, 3],\n",
       "       [1, 2, 3]])"
      ]
     },
     "execution_count": 35,
     "metadata": {},
     "output_type": "execute_result"
    }
   ],
   "source": [
    "arr1"
   ]
  },
  {
   "cell_type": "code",
   "execution_count": 36,
   "id": "c343ae31-1e89-4eab-8111-1c359666fa05",
   "metadata": {},
   "outputs": [
    {
     "data": {
      "text/plain": [
       "1"
      ]
     },
     "execution_count": 36,
     "metadata": {},
     "output_type": "execute_result"
    }
   ],
   "source": [
    "arr.ndim"
   ]
  },
  {
   "cell_type": "code",
   "execution_count": 37,
   "id": "bfdea7ca-b388-4c60-a6fc-149d492de9c5",
   "metadata": {},
   "outputs": [
    {
     "data": {
      "text/plain": [
       "4"
      ]
     },
     "execution_count": 37,
     "metadata": {},
     "output_type": "execute_result"
    }
   ],
   "source": [
    "arr.size"
   ]
  },
  {
   "cell_type": "code",
   "execution_count": 38,
   "id": "e35c6005-8e4b-4921-a04d-914f836a3e7f",
   "metadata": {},
   "outputs": [
    {
     "data": {
      "text/plain": [
       "6"
      ]
     },
     "execution_count": 38,
     "metadata": {},
     "output_type": "execute_result"
    }
   ],
   "source": [
    "arr1.size"
   ]
  },
  {
   "cell_type": "code",
   "execution_count": 39,
   "id": "2108474c-2b25-45ae-ac32-06ac2f7a18f6",
   "metadata": {},
   "outputs": [
    {
     "data": {
      "text/plain": [
       "(4,)"
      ]
     },
     "execution_count": 39,
     "metadata": {},
     "output_type": "execute_result"
    }
   ],
   "source": [
    "arr.shape"
   ]
  },
  {
   "cell_type": "code",
   "execution_count": 40,
   "id": "c7c63612-f61c-405b-8432-1e05c7539a15",
   "metadata": {},
   "outputs": [
    {
     "data": {
      "text/plain": [
       "(2, 3)"
      ]
     },
     "execution_count": 40,
     "metadata": {},
     "output_type": "execute_result"
    }
   ],
   "source": [
    "arr1.shape"
   ]
  },
  {
   "cell_type": "code",
   "execution_count": 41,
   "id": "459370b0-134a-4141-864c-7b67f08421fe",
   "metadata": {},
   "outputs": [
    {
     "data": {
      "text/plain": [
       "dtype('int64')"
      ]
     },
     "execution_count": 41,
     "metadata": {},
     "output_type": "execute_result"
    }
   ],
   "source": [
    "arr.dtype"
   ]
  },
  {
   "cell_type": "code",
   "execution_count": 42,
   "id": "8c568550-0af8-41f4-8d98-e2e83be07366",
   "metadata": {},
   "outputs": [
    {
     "data": {
      "text/plain": [
       "dtype('int64')"
      ]
     },
     "execution_count": 42,
     "metadata": {},
     "output_type": "execute_result"
    }
   ],
   "source": [
    "arr1.dtype"
   ]
  },
  {
   "cell_type": "code",
   "execution_count": 43,
   "id": "956284df-f1e8-4e16-a27c-cd78cc8e437f",
   "metadata": {},
   "outputs": [],
   "source": [
    "# l2"
   ]
  },
  {
   "cell_type": "code",
   "execution_count": 44,
   "id": "65a04771-15a8-4fa3-92ef-c113c5796e1d",
   "metadata": {},
   "outputs": [
    {
     "data": {
      "text/plain": [
       "range(0, 5)"
      ]
     },
     "execution_count": 44,
     "metadata": {},
     "output_type": "execute_result"
    }
   ],
   "source": [
    "range(0,5)"
   ]
  },
  {
   "cell_type": "code",
   "execution_count": 45,
   "id": "8f079f97-bb5b-4477-ab46-fc57c3174c5d",
   "metadata": {},
   "outputs": [
    {
     "data": {
      "text/plain": [
       "[0, 1, 2, 3, 4]"
      ]
     },
     "execution_count": 45,
     "metadata": {},
     "output_type": "execute_result"
    }
   ],
   "source": [
    "list(range(5))"
   ]
  },
  {
   "cell_type": "code",
   "execution_count": 47,
   "id": "c09c3bad-06c8-47cb-be6d-0a51a44391fe",
   "metadata": {},
   "outputs": [
    {
     "ename": "TypeError",
     "evalue": "'float' object cannot be interpreted as an integer",
     "output_type": "error",
     "traceback": [
      "\u001b[0;31m---------------------------------------------------------------------------\u001b[0m",
      "\u001b[0;31mTypeError\u001b[0m                                 Traceback (most recent call last)",
      "Cell \u001b[0;32mIn[47], line 1\u001b[0m\n\u001b[0;32m----> 1\u001b[0m \u001b[38;5;28mlist\u001b[39m(\u001b[38;5;28;43mrange\u001b[39;49m\u001b[43m(\u001b[49m\u001b[38;5;241;43m0.2\u001b[39;49m\u001b[43m,\u001b[49m\u001b[43m \u001b[49m\u001b[38;5;241;43m5.3\u001b[39;49m\u001b[43m)\u001b[49m)\n",
      "\u001b[0;31mTypeError\u001b[0m: 'float' object cannot be interpreted as an integer"
     ]
    }
   ],
   "source": [
    "list(range(0.2, 5.3))"
   ]
  },
  {
   "cell_type": "code",
   "execution_count": 48,
   "id": "d85397ad-93e7-4db2-a80a-f8660bd09440",
   "metadata": {},
   "outputs": [
    {
     "data": {
      "text/plain": [
       "array([ 2.5,  3. ,  3.5,  4. ,  4.5,  5. ,  5.5,  6. ,  6.5,  7. ,  7.5,\n",
       "        8. ,  8.5,  9. ,  9.5, 10. , 10.5, 11. , 11.5, 12. , 12.5, 13. ,\n",
       "       13.5, 14. , 14.5, 15. , 15.5, 16. , 16.5, 17. , 17.5, 18. , 18.5,\n",
       "       19. , 19.5, 20. , 20.5, 21. , 21.5, 22. , 22.5, 23. , 23.5, 24. ,\n",
       "       24.5, 25. , 25.5, 26. , 26.5, 27. , 27.5, 28. , 28.5, 29. , 29.5,\n",
       "       30. , 30.5, 31. , 31.5, 32. , 32.5, 33. , 33.5, 34. , 34.5, 35. ])"
      ]
     },
     "execution_count": 48,
     "metadata": {},
     "output_type": "execute_result"
    }
   ],
   "source": [
    "np.arange(2.5, 35.5, 0.5)"
   ]
  },
  {
   "cell_type": "code",
   "execution_count": 50,
   "id": "829fda37-76d8-4149-bbf5-b04ccdcee184",
   "metadata": {},
   "outputs": [
    {
     "data": {
      "text/plain": [
       "array([1.        , 1.21052632, 1.42105263, 1.63157895, 1.84210526,\n",
       "       2.05263158, 2.26315789, 2.47368421, 2.68421053, 2.89473684,\n",
       "       3.10526316, 3.31578947, 3.52631579, 3.73684211, 3.94736842,\n",
       "       4.15789474, 4.36842105, 4.57894737, 4.78947368, 5.        ])"
      ]
     },
     "execution_count": 50,
     "metadata": {},
     "output_type": "execute_result"
    }
   ],
   "source": [
    "np.linspace(1, 5, 20)"
   ]
  },
  {
   "cell_type": "code",
   "execution_count": 51,
   "id": "70f57053-cf15-4280-85e6-91feb3ab357d",
   "metadata": {},
   "outputs": [
    {
     "data": {
      "text/plain": [
       "array([ 2.,  4.,  8., 16., 32.])"
      ]
     },
     "execution_count": 51,
     "metadata": {},
     "output_type": "execute_result"
    }
   ],
   "source": [
    "np.logspace(1, 5, 5, base = 2)"
   ]
  },
  {
   "cell_type": "code",
   "execution_count": 53,
   "id": "1b7667a1-8466-426a-9ba4-45b08e0072af",
   "metadata": {},
   "outputs": [
    {
     "data": {
      "text/plain": [
       "array([0., 0., 0.])"
      ]
     },
     "execution_count": 53,
     "metadata": {},
     "output_type": "execute_result"
    }
   ],
   "source": [
    "np.zeros(3)"
   ]
  },
  {
   "cell_type": "code",
   "execution_count": 54,
   "id": "21d4a6e1-ac21-44cf-8423-bd331a1e2ca8",
   "metadata": {},
   "outputs": [
    {
     "data": {
      "text/plain": [
       "array([[0., 0., 0., 0.],\n",
       "       [0., 0., 0., 0.],\n",
       "       [0., 0., 0., 0.]])"
      ]
     },
     "execution_count": 54,
     "metadata": {},
     "output_type": "execute_result"
    }
   ],
   "source": [
    "np.zeros((3,4))"
   ]
  },
  {
   "cell_type": "code",
   "execution_count": 56,
   "id": "2f07d7be-1be8-400a-89e0-a97e24fb5937",
   "metadata": {},
   "outputs": [
    {
     "data": {
      "text/plain": [
       "array([[[0., 0.],\n",
       "        [0., 0.],\n",
       "        [0., 0.],\n",
       "        [0., 0.]],\n",
       "\n",
       "       [[0., 0.],\n",
       "        [0., 0.],\n",
       "        [0., 0.],\n",
       "        [0., 0.]],\n",
       "\n",
       "       [[0., 0.],\n",
       "        [0., 0.],\n",
       "        [0., 0.],\n",
       "        [0., 0.]]])"
      ]
     },
     "execution_count": 56,
     "metadata": {},
     "output_type": "execute_result"
    }
   ],
   "source": [
    "np.zeros((3,4,2))"
   ]
  },
  {
   "cell_type": "code",
   "execution_count": 57,
   "id": "09810717-20d9-4d43-bbd8-5b0032058ddc",
   "metadata": {},
   "outputs": [
    {
     "data": {
      "text/plain": [
       "array([[[[0., 0.],\n",
       "         [0., 0.],\n",
       "         [0., 0.],\n",
       "         [0., 0.]],\n",
       "\n",
       "        [[0., 0.],\n",
       "         [0., 0.],\n",
       "         [0., 0.],\n",
       "         [0., 0.]],\n",
       "\n",
       "        [[0., 0.],\n",
       "         [0., 0.],\n",
       "         [0., 0.],\n",
       "         [0., 0.]]],\n",
       "\n",
       "\n",
       "       [[[0., 0.],\n",
       "         [0., 0.],\n",
       "         [0., 0.],\n",
       "         [0., 0.]],\n",
       "\n",
       "        [[0., 0.],\n",
       "         [0., 0.],\n",
       "         [0., 0.],\n",
       "         [0., 0.]],\n",
       "\n",
       "        [[0., 0.],\n",
       "         [0., 0.],\n",
       "         [0., 0.],\n",
       "         [0., 0.]]]])"
      ]
     },
     "execution_count": 57,
     "metadata": {},
     "output_type": "execute_result"
    }
   ],
   "source": [
    "np.zeros((2, 3,4,2))"
   ]
  },
  {
   "cell_type": "code",
   "execution_count": 59,
   "id": "ab2a18bd-a121-462b-8099-e9943f23670b",
   "metadata": {},
   "outputs": [
    {
     "data": {
      "text/plain": [
       "array([1., 1., 1., 1.])"
      ]
     },
     "execution_count": 59,
     "metadata": {},
     "output_type": "execute_result"
    }
   ],
   "source": [
    "np.ones(4)"
   ]
  },
  {
   "cell_type": "code",
   "execution_count": 61,
   "id": "9f751825-93d3-4e59-8ebe-ad03899f8cde",
   "metadata": {},
   "outputs": [],
   "source": [
    "arr = np.ones((3,4))"
   ]
  },
  {
   "cell_type": "code",
   "execution_count": 62,
   "id": "464494b8-cc91-4793-9ea7-c3f7c3264275",
   "metadata": {},
   "outputs": [
    {
     "data": {
      "text/plain": [
       "array([[5., 5., 5., 5.],\n",
       "       [5., 5., 5., 5.],\n",
       "       [5., 5., 5., 5.]])"
      ]
     },
     "execution_count": 62,
     "metadata": {},
     "output_type": "execute_result"
    }
   ],
   "source": [
    "arr + 4"
   ]
  },
  {
   "cell_type": "code",
   "execution_count": 63,
   "id": "488d7a7b-5cb8-4029-a6fc-a2e03333c273",
   "metadata": {},
   "outputs": [
    {
     "data": {
      "text/plain": [
       "array([[-3., -3., -3., -3.],\n",
       "       [-3., -3., -3., -3.],\n",
       "       [-3., -3., -3., -3.]])"
      ]
     },
     "execution_count": 63,
     "metadata": {},
     "output_type": "execute_result"
    }
   ],
   "source": [
    "arr - 4"
   ]
  },
  {
   "cell_type": "code",
   "execution_count": 64,
   "id": "3a2137af-df76-4ef8-9dfb-b699d3bb3a21",
   "metadata": {},
   "outputs": [
    {
     "data": {
      "text/plain": [
       "array([[4., 4., 4., 4.],\n",
       "       [4., 4., 4., 4.],\n",
       "       [4., 4., 4., 4.]])"
      ]
     },
     "execution_count": 64,
     "metadata": {},
     "output_type": "execute_result"
    }
   ],
   "source": [
    "arr *4"
   ]
  },
  {
   "cell_type": "code",
   "execution_count": 66,
   "id": "c361df4f-881e-4aab-be89-93546e5ba8bb",
   "metadata": {},
   "outputs": [
    {
     "data": {
      "text/plain": [
       "array([[4., 4., 4., 4.],\n",
       "       [4., 4., 4., 4.],\n",
       "       [4., 4., 4., 4.]])"
      ]
     },
     "execution_count": 66,
     "metadata": {},
     "output_type": "execute_result"
    }
   ],
   "source": [
    "np.empty((3,4))"
   ]
  },
  {
   "cell_type": "code",
   "execution_count": 68,
   "id": "3887d359-73dd-4819-8ff2-3adbd8841f84",
   "metadata": {},
   "outputs": [],
   "source": [
    "arr3 = np.eye(5)"
   ]
  },
  {
   "cell_type": "code",
   "execution_count": 69,
   "id": "5dcdd4f3-26ad-43f5-ae9b-617a41f9aafc",
   "metadata": {},
   "outputs": [
    {
     "data": {
      "text/plain": [
       "array([[1., 0., 0., 0., 0.],\n",
       "       [0., 1., 0., 0., 0.],\n",
       "       [0., 0., 1., 0., 0.],\n",
       "       [0., 0., 0., 1., 0.],\n",
       "       [0., 0., 0., 0., 1.]])"
      ]
     },
     "execution_count": 69,
     "metadata": {},
     "output_type": "execute_result"
    }
   ],
   "source": [
    "arr3"
   ]
  },
  {
   "cell_type": "code",
   "execution_count": 70,
   "id": "bc71a0fd-fea7-41af-917d-842ab1a5815e",
   "metadata": {},
   "outputs": [],
   "source": [
    "import pandas as pd"
   ]
  },
  {
   "cell_type": "code",
   "execution_count": 71,
   "id": "fa607413-709e-4ddd-863c-757254496148",
   "metadata": {},
   "outputs": [
    {
     "data": {
      "text/html": [
       "<div>\n",
       "<style scoped>\n",
       "    .dataframe tbody tr th:only-of-type {\n",
       "        vertical-align: middle;\n",
       "    }\n",
       "\n",
       "    .dataframe tbody tr th {\n",
       "        vertical-align: top;\n",
       "    }\n",
       "\n",
       "    .dataframe thead th {\n",
       "        text-align: right;\n",
       "    }\n",
       "</style>\n",
       "<table border=\"1\" class=\"dataframe\">\n",
       "  <thead>\n",
       "    <tr style=\"text-align: right;\">\n",
       "      <th></th>\n",
       "      <th>0</th>\n",
       "      <th>1</th>\n",
       "      <th>2</th>\n",
       "      <th>3</th>\n",
       "      <th>4</th>\n",
       "    </tr>\n",
       "  </thead>\n",
       "  <tbody>\n",
       "    <tr>\n",
       "      <th>0</th>\n",
       "      <td>1.0</td>\n",
       "      <td>0.0</td>\n",
       "      <td>0.0</td>\n",
       "      <td>0.0</td>\n",
       "      <td>0.0</td>\n",
       "    </tr>\n",
       "    <tr>\n",
       "      <th>1</th>\n",
       "      <td>0.0</td>\n",
       "      <td>1.0</td>\n",
       "      <td>0.0</td>\n",
       "      <td>0.0</td>\n",
       "      <td>0.0</td>\n",
       "    </tr>\n",
       "    <tr>\n",
       "      <th>2</th>\n",
       "      <td>0.0</td>\n",
       "      <td>0.0</td>\n",
       "      <td>1.0</td>\n",
       "      <td>0.0</td>\n",
       "      <td>0.0</td>\n",
       "    </tr>\n",
       "    <tr>\n",
       "      <th>3</th>\n",
       "      <td>0.0</td>\n",
       "      <td>0.0</td>\n",
       "      <td>0.0</td>\n",
       "      <td>1.0</td>\n",
       "      <td>0.0</td>\n",
       "    </tr>\n",
       "    <tr>\n",
       "      <th>4</th>\n",
       "      <td>0.0</td>\n",
       "      <td>0.0</td>\n",
       "      <td>0.0</td>\n",
       "      <td>0.0</td>\n",
       "      <td>1.0</td>\n",
       "    </tr>\n",
       "  </tbody>\n",
       "</table>\n",
       "</div>"
      ],
      "text/plain": [
       "     0    1    2    3    4\n",
       "0  1.0  0.0  0.0  0.0  0.0\n",
       "1  0.0  1.0  0.0  0.0  0.0\n",
       "2  0.0  0.0  1.0  0.0  0.0\n",
       "3  0.0  0.0  0.0  1.0  0.0\n",
       "4  0.0  0.0  0.0  0.0  1.0"
      ]
     },
     "execution_count": 71,
     "metadata": {},
     "output_type": "execute_result"
    }
   ],
   "source": [
    "pd.DataFrame(arr3)"
   ]
  },
  {
   "cell_type": "code",
   "execution_count": 72,
   "id": "831dec0d-0468-44ae-97ba-33d49e41e9f6",
   "metadata": {},
   "outputs": [
    {
     "data": {
      "text/plain": [
       "array([[0.07779472, 0.5128444 , 0.54905347],\n",
       "       [0.97244659, 0.3762963 , 0.76675791]])"
      ]
     },
     "execution_count": 72,
     "metadata": {},
     "output_type": "execute_result"
    }
   ],
   "source": [
    "np.random.rand(2, 3)"
   ]
  },
  {
   "cell_type": "code",
   "execution_count": 74,
   "id": "ef36d031-cfad-417c-83dd-c5924920a493",
   "metadata": {},
   "outputs": [
    {
     "data": {
      "text/plain": [
       "array([[ 0.3555414 ,  0.45955392, -1.78258304],\n",
       "       [ 0.53506836,  0.36038696,  0.58545233]])"
      ]
     },
     "execution_count": 74,
     "metadata": {},
     "output_type": "execute_result"
    }
   ],
   "source": [
    "np.random.randn(2,3)"
   ]
  },
  {
   "cell_type": "code",
   "execution_count": 77,
   "id": "7e4d189b-b631-4ac6-9ec6-2d94b7b11542",
   "metadata": {},
   "outputs": [],
   "source": [
    "arr4 = np.random.randint(1, 5, (3, 4))"
   ]
  },
  {
   "cell_type": "code",
   "execution_count": 78,
   "id": "041330cd-4787-4ddc-98c8-4946bf06e493",
   "metadata": {},
   "outputs": [
    {
     "data": {
      "text/plain": [
       "array([[2, 3, 3, 3],\n",
       "       [2, 3, 4, 3],\n",
       "       [1, 3, 1, 3]])"
      ]
     },
     "execution_count": 78,
     "metadata": {},
     "output_type": "execute_result"
    }
   ],
   "source": [
    "arr4"
   ]
  },
  {
   "cell_type": "code",
   "execution_count": 79,
   "id": "50e91610-5f77-4aaf-9567-c7d6343aa094",
   "metadata": {},
   "outputs": [
    {
     "data": {
      "text/plain": [
       "(3, 4)"
      ]
     },
     "execution_count": 79,
     "metadata": {},
     "output_type": "execute_result"
    }
   ],
   "source": [
    "arr4.shape"
   ]
  },
  {
   "cell_type": "code",
   "execution_count": 80,
   "id": "3c0f5197-eac4-4161-9ed2-27b489de357e",
   "metadata": {},
   "outputs": [
    {
     "data": {
      "text/plain": [
       "array([[2, 3],\n",
       "       [3, 3],\n",
       "       [2, 3],\n",
       "       [4, 3],\n",
       "       [1, 3],\n",
       "       [1, 3]])"
      ]
     },
     "execution_count": 80,
     "metadata": {},
     "output_type": "execute_result"
    }
   ],
   "source": [
    "arr4.reshape(6, 2)"
   ]
  },
  {
   "cell_type": "code",
   "execution_count": 81,
   "id": "41cc2a35-3b5c-4797-bd6c-6f88f1bdfa96",
   "metadata": {},
   "outputs": [
    {
     "data": {
      "text/plain": [
       "array([[2, 3, 3, 3],\n",
       "       [2, 3, 4, 3],\n",
       "       [1, 3, 1, 3]])"
      ]
     },
     "execution_count": 81,
     "metadata": {},
     "output_type": "execute_result"
    }
   ],
   "source": [
    "arr4"
   ]
  },
  {
   "cell_type": "code",
   "execution_count": 82,
   "id": "c9e68ca4-fea9-477a-ab8b-7cb3d00f3fed",
   "metadata": {},
   "outputs": [
    {
     "ename": "ValueError",
     "evalue": "cannot reshape array of size 12 into shape (5,5)",
     "output_type": "error",
     "traceback": [
      "\u001b[0;31m---------------------------------------------------------------------------\u001b[0m",
      "\u001b[0;31mValueError\u001b[0m                                Traceback (most recent call last)",
      "Cell \u001b[0;32mIn[82], line 1\u001b[0m\n\u001b[0;32m----> 1\u001b[0m \u001b[43marr4\u001b[49m\u001b[38;5;241;43m.\u001b[39;49m\u001b[43mreshape\u001b[49m\u001b[43m(\u001b[49m\u001b[38;5;241;43m5\u001b[39;49m\u001b[43m,\u001b[49m\u001b[38;5;241;43m5\u001b[39;49m\u001b[43m)\u001b[49m\n",
      "\u001b[0;31mValueError\u001b[0m: cannot reshape array of size 12 into shape (5,5)"
     ]
    }
   ],
   "source": [
    "arr4.reshape(5,5)"
   ]
  },
  {
   "cell_type": "code",
   "execution_count": 84,
   "id": "7501749a-2477-49b1-8099-50f3a18d910d",
   "metadata": {},
   "outputs": [
    {
     "data": {
      "text/plain": [
       "array([[2, 3, 3],\n",
       "       [3, 2, 3],\n",
       "       [4, 3, 1],\n",
       "       [3, 1, 3]])"
      ]
     },
     "execution_count": 84,
     "metadata": {},
     "output_type": "execute_result"
    }
   ],
   "source": [
    "arr4.reshape(4,-2342)"
   ]
  },
  {
   "cell_type": "code",
   "execution_count": 85,
   "id": "d3d3d2cf-4c56-4596-b604-6f18fc080475",
   "metadata": {},
   "outputs": [
    {
     "data": {
      "text/plain": [
       "array([[2, 3, 3],\n",
       "       [3, 2, 3],\n",
       "       [4, 3, 1],\n",
       "       [3, 1, 3]])"
      ]
     },
     "execution_count": 85,
     "metadata": {},
     "output_type": "execute_result"
    }
   ],
   "source": [
    "arr4.reshape(4,-1)"
   ]
  },
  {
   "cell_type": "code",
   "execution_count": 86,
   "id": "ae564147-b628-4a9d-975d-d31b7e690fae",
   "metadata": {},
   "outputs": [
    {
     "data": {
      "text/plain": [
       "array([[[2, 3],\n",
       "        [3, 3],\n",
       "        [2, 3]],\n",
       "\n",
       "       [[4, 3],\n",
       "        [1, 3],\n",
       "        [1, 3]]])"
      ]
     },
     "execution_count": 86,
     "metadata": {},
     "output_type": "execute_result"
    }
   ],
   "source": [
    "arr4.reshape(2,3,2)"
   ]
  },
  {
   "cell_type": "code",
   "execution_count": 87,
   "id": "151ceff7-7923-44b6-af69-bff8956570ee",
   "metadata": {},
   "outputs": [],
   "source": [
    "arr5 = np.random.randint(1, 10, (5,5))"
   ]
  },
  {
   "cell_type": "code",
   "execution_count": 88,
   "id": "e8bfdd77-58c9-4382-b299-519b9d7c5a7f",
   "metadata": {},
   "outputs": [
    {
     "data": {
      "text/plain": [
       "array([[False, False, False, False, False],\n",
       "       [False, False, False, False, False],\n",
       "       [ True, False, False, False, False],\n",
       "       [False, False, False, False, False],\n",
       "       [False, False, False, False, False]])"
      ]
     },
     "execution_count": 88,
     "metadata": {},
     "output_type": "execute_result"
    }
   ],
   "source": [
    "arr5 > 8"
   ]
  },
  {
   "cell_type": "code",
   "execution_count": 89,
   "id": "a5cc275d-c7ba-4ae8-945d-489805f539b7",
   "metadata": {},
   "outputs": [
    {
     "data": {
      "text/plain": [
       "array([9])"
      ]
     },
     "execution_count": 89,
     "metadata": {},
     "output_type": "execute_result"
    }
   ],
   "source": [
    "arr5[arr5>8]"
   ]
  },
  {
   "cell_type": "code",
   "execution_count": 90,
   "id": "f0ba18bf-e7d0-435f-9138-5d30bd4310ac",
   "metadata": {},
   "outputs": [
    {
     "data": {
      "text/plain": [
       "array([[2, 6, 7, 8, 8],\n",
       "       [7, 6, 3, 5, 7],\n",
       "       [9, 6, 1, 8, 2],\n",
       "       [1, 4, 2, 8, 4],\n",
       "       [4, 5, 8, 6, 5]])"
      ]
     },
     "execution_count": 90,
     "metadata": {},
     "output_type": "execute_result"
    }
   ],
   "source": [
    "arr5"
   ]
  },
  {
   "cell_type": "code",
   "execution_count": 91,
   "id": "820a4bf9-8489-4c72-bb24-ff203121ba36",
   "metadata": {},
   "outputs": [
    {
     "data": {
      "text/plain": [
       "array([2, 6, 7, 8, 8])"
      ]
     },
     "execution_count": 91,
     "metadata": {},
     "output_type": "execute_result"
    }
   ],
   "source": [
    "arr5[0]"
   ]
  },
  {
   "cell_type": "code",
   "execution_count": 92,
   "id": "bc0c60ef-e297-47bb-97b5-96255bc58f2a",
   "metadata": {},
   "outputs": [
    {
     "data": {
      "text/plain": [
       "array([1., 1.])"
      ]
     },
     "execution_count": 92,
     "metadata": {},
     "output_type": "execute_result"
    }
   ],
   "source": [
    "arr[0, [0,1]]"
   ]
  },
  {
   "cell_type": "code",
   "execution_count": 93,
   "id": "82a7bc9c-3c1e-4f9f-a25b-9c11995fb565",
   "metadata": {},
   "outputs": [
    {
     "data": {
      "text/plain": [
       "array([[1, 2],\n",
       "       [2, 4]])"
      ]
     },
     "execution_count": 93,
     "metadata": {},
     "output_type": "execute_result"
    }
   ],
   "source": [
    "arr5[2:4, [2,4]]"
   ]
  },
  {
   "cell_type": "code",
   "execution_count": 94,
   "id": "1a441356-3e1d-4bb7-8b45-935dec3ec1a1",
   "metadata": {},
   "outputs": [
    {
     "data": {
      "text/plain": [
       "array([[1, 8],\n",
       "       [2, 8]])"
      ]
     },
     "execution_count": 94,
     "metadata": {},
     "output_type": "execute_result"
    }
   ],
   "source": [
    "arr5[2:4, 2:4]"
   ]
  },
  {
   "cell_type": "code",
   "execution_count": 95,
   "id": "a9042399-a566-4aa1-9ba2-ee52c6726437",
   "metadata": {},
   "outputs": [],
   "source": [
    "arr6 = np.random.randint(1, 3, (3,3))\n",
    "arr7 = np.random.randint(1, 3, (3,3))"
   ]
  },
  {
   "cell_type": "code",
   "execution_count": 96,
   "id": "459e93ea-d4b1-40ff-856e-71b3d399592f",
   "metadata": {},
   "outputs": [
    {
     "data": {
      "text/plain": [
       "array([[2, 1, 2],\n",
       "       [2, 1, 2],\n",
       "       [2, 2, 1]])"
      ]
     },
     "execution_count": 96,
     "metadata": {},
     "output_type": "execute_result"
    }
   ],
   "source": [
    "arr6"
   ]
  },
  {
   "cell_type": "code",
   "execution_count": 97,
   "id": "b460afd2-3b13-423a-846a-3df927b420ff",
   "metadata": {},
   "outputs": [
    {
     "data": {
      "text/plain": [
       "array([[1, 1, 2],\n",
       "       [1, 1, 2],\n",
       "       [2, 2, 2]])"
      ]
     },
     "execution_count": 97,
     "metadata": {},
     "output_type": "execute_result"
    }
   ],
   "source": [
    "arr7"
   ]
  },
  {
   "cell_type": "code",
   "execution_count": 98,
   "id": "70d18493-cd16-4a2c-acfa-a25be95795de",
   "metadata": {},
   "outputs": [
    {
     "data": {
      "text/plain": [
       "array([[3, 2, 4],\n",
       "       [3, 2, 4],\n",
       "       [4, 4, 3]])"
      ]
     },
     "execution_count": 98,
     "metadata": {},
     "output_type": "execute_result"
    }
   ],
   "source": [
    "arr6  + arr7"
   ]
  },
  {
   "cell_type": "code",
   "execution_count": 99,
   "id": "71342981-1a80-4497-a30d-682419b2c536",
   "metadata": {},
   "outputs": [
    {
     "data": {
      "text/plain": [
       "array([[ 1,  0,  0],\n",
       "       [ 1,  0,  0],\n",
       "       [ 0,  0, -1]])"
      ]
     },
     "execution_count": 99,
     "metadata": {},
     "output_type": "execute_result"
    }
   ],
   "source": [
    "arr6 - arr7"
   ]
  },
  {
   "cell_type": "code",
   "execution_count": 100,
   "id": "a7bd63f5-0151-4193-81e6-3363e05c0563",
   "metadata": {},
   "outputs": [
    {
     "data": {
      "text/plain": [
       "array([[2, 1, 4],\n",
       "       [2, 1, 4],\n",
       "       [4, 4, 2]])"
      ]
     },
     "execution_count": 100,
     "metadata": {},
     "output_type": "execute_result"
    }
   ],
   "source": [
    "arr6 * arr7"
   ]
  },
  {
   "cell_type": "code",
   "execution_count": 101,
   "id": "6f3fe436-7f54-4ee5-90fa-eb06a21ff0a2",
   "metadata": {},
   "outputs": [
    {
     "data": {
      "text/plain": [
       "array([[ 7,  7, 10],\n",
       "       [ 7,  7, 10],\n",
       "       [ 6,  6, 10]])"
      ]
     },
     "execution_count": 101,
     "metadata": {},
     "output_type": "execute_result"
    }
   ],
   "source": [
    "arr6@arr7"
   ]
  },
  {
   "cell_type": "code",
   "execution_count": 102,
   "id": "817e3ff2-0775-48a3-b8ce-ca38c06366a6",
   "metadata": {},
   "outputs": [
    {
     "data": {
      "text/plain": [
       "array([[2. , 1. , 1. ],\n",
       "       [2. , 1. , 1. ],\n",
       "       [1. , 1. , 0.5]])"
      ]
     },
     "execution_count": 102,
     "metadata": {},
     "output_type": "execute_result"
    }
   ],
   "source": [
    "arr6 / arr7"
   ]
  },
  {
   "cell_type": "code",
   "execution_count": 103,
   "id": "7fd311ae-197f-414b-b266-a7d6272432ce",
   "metadata": {},
   "outputs": [
    {
     "name": "stderr",
     "output_type": "stream",
     "text": [
      "/tmp/ipykernel_7502/1351048935.py:1: RuntimeWarning: divide by zero encountered in divide\n",
      "  arr6/0\n"
     ]
    },
    {
     "data": {
      "text/plain": [
       "array([[inf, inf, inf],\n",
       "       [inf, inf, inf],\n",
       "       [inf, inf, inf]])"
      ]
     },
     "execution_count": 103,
     "metadata": {},
     "output_type": "execute_result"
    }
   ],
   "source": [
    "arr6/0"
   ]
  },
  {
   "cell_type": "code",
   "execution_count": 104,
   "id": "0635d9c1-dcc6-4432-b36d-fd5900f5c570",
   "metadata": {},
   "outputs": [],
   "source": [
    "# numpy broadcasting"
   ]
  },
  {
   "cell_type": "code",
   "execution_count": 106,
   "id": "53e327fa-8d89-4545-9adc-ab863b644e4a",
   "metadata": {},
   "outputs": [],
   "source": [
    "arr = np.zeros((3, 4))"
   ]
  },
  {
   "cell_type": "code",
   "execution_count": 107,
   "id": "c3d608cd-7565-42eb-852b-507bef617ac4",
   "metadata": {},
   "outputs": [
    {
     "data": {
      "text/plain": [
       "array([[0., 0., 0., 0.],\n",
       "       [0., 0., 0., 0.],\n",
       "       [0., 0., 0., 0.]])"
      ]
     },
     "execution_count": 107,
     "metadata": {},
     "output_type": "execute_result"
    }
   ],
   "source": [
    "arr"
   ]
  },
  {
   "cell_type": "code",
   "execution_count": 108,
   "id": "8966461d-cc3c-46d7-b1af-04797e55a3f6",
   "metadata": {},
   "outputs": [
    {
     "data": {
      "text/plain": [
       "array([[5., 5., 5., 5.],\n",
       "       [5., 5., 5., 5.],\n",
       "       [5., 5., 5., 5.]])"
      ]
     },
     "execution_count": 108,
     "metadata": {},
     "output_type": "execute_result"
    }
   ],
   "source": [
    "arr + 5"
   ]
  },
  {
   "cell_type": "code",
   "execution_count": 116,
   "id": "b9a15e4e-3227-4ffd-a02d-ceb52e6dbeb7",
   "metadata": {},
   "outputs": [],
   "source": [
    "a = np.array([[1,2,3,4]])"
   ]
  },
  {
   "cell_type": "code",
   "execution_count": 117,
   "id": "7a0dddda-d153-44e9-8dec-4afac39acdb8",
   "metadata": {},
   "outputs": [
    {
     "data": {
      "text/plain": [
       "array([[1., 2., 3., 4.],\n",
       "       [1., 2., 3., 4.],\n",
       "       [1., 2., 3., 4.]])"
      ]
     },
     "execution_count": 117,
     "metadata": {},
     "output_type": "execute_result"
    }
   ],
   "source": [
    "arr + a"
   ]
  },
  {
   "cell_type": "code",
   "execution_count": 122,
   "id": "9bf61f8d-2b9f-48a7-b08b-903ce4c82c65",
   "metadata": {},
   "outputs": [],
   "source": [
    "b = np.array([[3,4,5]])"
   ]
  },
  {
   "cell_type": "code",
   "execution_count": 123,
   "id": "5b1d8047-a805-4118-895d-4b507b4475d3",
   "metadata": {},
   "outputs": [
    {
     "ename": "ValueError",
     "evalue": "operands could not be broadcast together with shapes (3,4) (1,3) ",
     "output_type": "error",
     "traceback": [
      "\u001b[0;31m---------------------------------------------------------------------------\u001b[0m",
      "\u001b[0;31mValueError\u001b[0m                                Traceback (most recent call last)",
      "Cell \u001b[0;32mIn[123], line 1\u001b[0m\n\u001b[0;32m----> 1\u001b[0m \u001b[43marr\u001b[49m\u001b[43m \u001b[49m\u001b[38;5;241;43m+\u001b[39;49m\u001b[43m \u001b[49m\u001b[43mb\u001b[49m\n",
      "\u001b[0;31mValueError\u001b[0m: operands could not be broadcast together with shapes (3,4) (1,3) "
     ]
    }
   ],
   "source": [
    "arr + b"
   ]
  },
  {
   "cell_type": "code",
   "execution_count": 124,
   "id": "6fff5c6c-c518-4075-bac5-285aec8a1ad2",
   "metadata": {},
   "outputs": [
    {
     "data": {
      "text/plain": [
       "array([[3],\n",
       "       [4],\n",
       "       [5]])"
      ]
     },
     "execution_count": 124,
     "metadata": {},
     "output_type": "execute_result"
    }
   ],
   "source": [
    "b.T"
   ]
  },
  {
   "cell_type": "code",
   "execution_count": 125,
   "id": "9d39f61c-e259-471c-b19f-8965cf4a3bc4",
   "metadata": {},
   "outputs": [
    {
     "data": {
      "text/plain": [
       "array([[3., 3., 3., 3.],\n",
       "       [4., 4., 4., 4.],\n",
       "       [5., 5., 5., 5.]])"
      ]
     },
     "execution_count": 125,
     "metadata": {},
     "output_type": "execute_result"
    }
   ],
   "source": [
    "arr + b.T"
   ]
  },
  {
   "cell_type": "code",
   "execution_count": 127,
   "id": "f24c4eca-5ba3-4839-a50d-f5b691b7772c",
   "metadata": {},
   "outputs": [
    {
     "data": {
      "text/plain": [
       "array([[1.41421356, 1.        , 1.41421356],\n",
       "       [1.41421356, 1.        , 1.41421356],\n",
       "       [1.41421356, 1.41421356, 1.        ]])"
      ]
     },
     "execution_count": 127,
     "metadata": {},
     "output_type": "execute_result"
    }
   ],
   "source": [
    "## sqrt\n",
    "\n",
    "np.sqrt(arr6)"
   ]
  },
  {
   "cell_type": "code",
   "execution_count": 128,
   "id": "56d95df2-8c7f-4ee3-b637-9c2a346966b9",
   "metadata": {},
   "outputs": [
    {
     "data": {
      "text/plain": [
       "array([[0.30103, 0.     , 0.30103],\n",
       "       [0.30103, 0.     , 0.30103],\n",
       "       [0.30103, 0.30103, 0.     ]])"
      ]
     },
     "execution_count": 128,
     "metadata": {},
     "output_type": "execute_result"
    }
   ],
   "source": [
    "np.log10(arr6)"
   ]
  },
  {
   "cell_type": "code",
   "execution_count": 129,
   "id": "cf1d3886-d839-4826-b076-e360a44445ac",
   "metadata": {},
   "outputs": [
    {
     "data": {
      "text/plain": [
       "array([[2.71828183, 2.71828183, 7.3890561 ],\n",
       "       [2.71828183, 2.71828183, 7.3890561 ],\n",
       "       [7.3890561 , 7.3890561 , 7.3890561 ]])"
      ]
     },
     "execution_count": 129,
     "metadata": {},
     "output_type": "execute_result"
    }
   ],
   "source": [
    "np.exp(arr7)"
   ]
  },
  {
   "cell_type": "code",
   "execution_count": 130,
   "id": "66d5c634-07d4-4bdb-bd74-ba819e8e2a7a",
   "metadata": {},
   "outputs": [
    {
     "data": {
      "text/plain": [
       "1"
      ]
     },
     "execution_count": 130,
     "metadata": {},
     "output_type": "execute_result"
    }
   ],
   "source": [
    "np.min(arr6)"
   ]
  },
  {
   "cell_type": "code",
   "execution_count": 131,
   "id": "ad0e4061-a754-42ed-b35b-4b0e4750d48c",
   "metadata": {},
   "outputs": [
    {
     "data": {
      "text/plain": [
       "2"
      ]
     },
     "execution_count": 131,
     "metadata": {},
     "output_type": "execute_result"
    }
   ],
   "source": [
    "np.max(arr7)"
   ]
  },
  {
   "cell_type": "code",
   "execution_count": 136,
   "id": "35bccf7a-8c9c-4d56-b541-130a46610c6a",
   "metadata": {},
   "outputs": [],
   "source": [
    "# l3\n",
    "import numpy as np"
   ]
  },
  {
   "cell_type": "code",
   "execution_count": 137,
   "id": "129e0ef6-7645-40c6-a747-100b7467e6a4",
   "metadata": {},
   "outputs": [],
   "source": [
    "arr = np.random.randint(1, 10, (4,4))"
   ]
  },
  {
   "cell_type": "code",
   "execution_count": 138,
   "id": "da5a148e-bece-4299-b3e5-54a749f752cd",
   "metadata": {},
   "outputs": [
    {
     "data": {
      "text/plain": [
       "array([[5, 8, 1, 1],\n",
       "       [3, 2, 9, 2],\n",
       "       [1, 1, 3, 6],\n",
       "       [8, 6, 1, 6]])"
      ]
     },
     "execution_count": 138,
     "metadata": {},
     "output_type": "execute_result"
    }
   ],
   "source": [
    "arr"
   ]
  },
  {
   "cell_type": "code",
   "execution_count": 139,
   "id": "8f418644-bb52-4748-9ee2-28029061ec78",
   "metadata": {},
   "outputs": [
    {
     "data": {
      "text/plain": [
       "array([[5, 3, 1, 8],\n",
       "       [8, 2, 1, 6],\n",
       "       [1, 9, 3, 1],\n",
       "       [1, 2, 6, 6]])"
      ]
     },
     "execution_count": 139,
     "metadata": {},
     "output_type": "execute_result"
    }
   ],
   "source": [
    "arr.T"
   ]
  },
  {
   "cell_type": "code",
   "execution_count": 140,
   "id": "53168c2a-b465-43f0-97cc-d09dbf08810f",
   "metadata": {},
   "outputs": [
    {
     "data": {
      "text/plain": [
       "array([5, 8, 1, 1, 3, 2, 9, 2, 1, 1, 3, 6, 8, 6, 1, 6])"
      ]
     },
     "execution_count": 140,
     "metadata": {},
     "output_type": "execute_result"
    }
   ],
   "source": [
    "arr.flatten()"
   ]
  },
  {
   "cell_type": "code",
   "execution_count": 141,
   "id": "5aaec3d3-25d0-447f-9e6b-9e457fb6aacb",
   "metadata": {},
   "outputs": [
    {
     "data": {
      "text/plain": [
       "array([[5, 8, 1, 1],\n",
       "       [3, 2, 9, 2],\n",
       "       [1, 1, 3, 6],\n",
       "       [8, 6, 1, 6]])"
      ]
     },
     "execution_count": 141,
     "metadata": {},
     "output_type": "execute_result"
    }
   ],
   "source": [
    "arr"
   ]
  },
  {
   "cell_type": "code",
   "execution_count": 144,
   "id": "e4a64b51-55a0-48ce-96ca-4d7c1af367a4",
   "metadata": {},
   "outputs": [],
   "source": [
    "arr1 =np.expand_dims(arr, axis=1)"
   ]
  },
  {
   "cell_type": "code",
   "execution_count": 145,
   "id": "cbb969f1-a54e-46c6-9da6-2edda2c04572",
   "metadata": {},
   "outputs": [
    {
     "data": {
      "text/plain": [
       "2"
      ]
     },
     "execution_count": 145,
     "metadata": {},
     "output_type": "execute_result"
    }
   ],
   "source": [
    "arr.ndim"
   ]
  },
  {
   "cell_type": "code",
   "execution_count": 146,
   "id": "807ff32b-f9c9-41ec-9168-5a28610b0755",
   "metadata": {},
   "outputs": [
    {
     "data": {
      "text/plain": [
       "3"
      ]
     },
     "execution_count": 146,
     "metadata": {},
     "output_type": "execute_result"
    }
   ],
   "source": [
    "arr1.ndim"
   ]
  },
  {
   "cell_type": "code",
   "execution_count": 147,
   "id": "53e5f7cc-1fe5-47a2-a465-6a20b48c1c8a",
   "metadata": {},
   "outputs": [],
   "source": [
    "arr2 =np.expand_dims(arr, axis=0)"
   ]
  },
  {
   "cell_type": "code",
   "execution_count": 148,
   "id": "d3786593-bf68-4d43-8a72-86d09a890a42",
   "metadata": {},
   "outputs": [
    {
     "data": {
      "text/plain": [
       "3"
      ]
     },
     "execution_count": 148,
     "metadata": {},
     "output_type": "execute_result"
    }
   ],
   "source": [
    "arr2.ndim"
   ]
  },
  {
   "cell_type": "code",
   "execution_count": 149,
   "id": "2ff73bd9-0cc3-4a4d-94f6-37a1dcecc20c",
   "metadata": {},
   "outputs": [
    {
     "data": {
      "text/plain": [
       "array([[[5, 8, 1, 1],\n",
       "        [3, 2, 9, 2],\n",
       "        [1, 1, 3, 6],\n",
       "        [8, 6, 1, 6]]])"
      ]
     },
     "execution_count": 149,
     "metadata": {},
     "output_type": "execute_result"
    }
   ],
   "source": [
    "arr2"
   ]
  },
  {
   "cell_type": "code",
   "execution_count": 150,
   "id": "704c8cdf-51f0-4c02-8cb6-7059e2acc4f1",
   "metadata": {},
   "outputs": [
    {
     "data": {
      "text/plain": [
       "array([[[5, 8, 1, 1]],\n",
       "\n",
       "       [[3, 2, 9, 2]],\n",
       "\n",
       "       [[1, 1, 3, 6]],\n",
       "\n",
       "       [[8, 6, 1, 6]]])"
      ]
     },
     "execution_count": 150,
     "metadata": {},
     "output_type": "execute_result"
    }
   ],
   "source": [
    "arr1"
   ]
  },
  {
   "cell_type": "code",
   "execution_count": 151,
   "id": "c4c6204f-446e-4686-9ccc-57181c46ee6d",
   "metadata": {},
   "outputs": [],
   "source": [
    "data = np.array([[1], [2], [3]])"
   ]
  },
  {
   "cell_type": "code",
   "execution_count": 153,
   "id": "7a7518c9-07d1-4865-a536-419953c3b0f0",
   "metadata": {},
   "outputs": [
    {
     "data": {
      "text/plain": [
       "array([1, 2, 3])"
      ]
     },
     "execution_count": 153,
     "metadata": {},
     "output_type": "execute_result"
    }
   ],
   "source": [
    "np.squeeze(data)"
   ]
  },
  {
   "cell_type": "code",
   "execution_count": 154,
   "id": "86503f2a-5549-4440-b351-8761e1356cae",
   "metadata": {},
   "outputs": [
    {
     "data": {
      "text/plain": [
       "array([1, 1, 1, 1, 2, 2, 2, 2, 3, 3, 3, 3])"
      ]
     },
     "execution_count": 154,
     "metadata": {},
     "output_type": "execute_result"
    }
   ],
   "source": [
    "np.repeat(data, 4)"
   ]
  },
  {
   "cell_type": "code",
   "execution_count": 156,
   "id": "efd11d32-2315-46e1-ae70-acd3c1b6063d",
   "metadata": {},
   "outputs": [
    {
     "data": {
      "text/plain": [
       "array([[2],\n",
       "       [3],\n",
       "       [1]])"
      ]
     },
     "execution_count": 156,
     "metadata": {},
     "output_type": "execute_result"
    }
   ],
   "source": [
    "np.roll(data, 2)"
   ]
  },
  {
   "cell_type": "code",
   "execution_count": 157,
   "id": "55f622d5-f1ce-40d1-9f60-755e5acc16ed",
   "metadata": {},
   "outputs": [
    {
     "data": {
      "text/plain": [
       "array([[1, 0, 0],\n",
       "       [0, 2, 0],\n",
       "       [0, 0, 3]])"
      ]
     },
     "execution_count": 157,
     "metadata": {},
     "output_type": "execute_result"
    }
   ],
   "source": [
    "np.diag(np.array([1,2,3]))"
   ]
  },
  {
   "cell_type": "code",
   "execution_count": 158,
   "id": "e7199a72-8e0b-453e-809d-80dd5d0de7d1",
   "metadata": {},
   "outputs": [],
   "source": [
    "arr1 =np.random.randint(1, 10, (3,4))"
   ]
  },
  {
   "cell_type": "code",
   "execution_count": 159,
   "id": "bc9a9cd6-38a0-4dc2-81b0-ae9a4cd760b8",
   "metadata": {},
   "outputs": [],
   "source": [
    "arr2 = np.random.randint(1,5, (3,4))"
   ]
  },
  {
   "cell_type": "code",
   "execution_count": 160,
   "id": "ad9480c7-ec7a-4fcb-b612-73015da97ca2",
   "metadata": {},
   "outputs": [
    {
     "data": {
      "text/plain": [
       "array([[6561,    3,   25,    9],\n",
       "       [   1,    1,    7,   64],\n",
       "       [ 343,  625,  216, 2401]])"
      ]
     },
     "execution_count": 160,
     "metadata": {},
     "output_type": "execute_result"
    }
   ],
   "source": [
    "arr1**arr2"
   ]
  },
  {
   "cell_type": "code",
   "execution_count": 161,
   "id": "8fe82dd5-2cae-40e7-9cea-805e0cd12485",
   "metadata": {},
   "outputs": [
    {
     "data": {
      "text/plain": [
       "array([[-10,  -4,  -6, -10],\n",
       "       [ -2,  -2,  -8,  -5],\n",
       "       [ -8,  -6,  -7,  -8]])"
      ]
     },
     "execution_count": 161,
     "metadata": {},
     "output_type": "execute_result"
    }
   ],
   "source": [
    "~arr1"
   ]
  },
  {
   "cell_type": "code",
   "execution_count": 163,
   "id": "99e93856-4289-4ba1-aeef-b0b53133f5d2",
   "metadata": {},
   "outputs": [
    {
     "data": {
      "text/plain": [
       "array([[ True,  True,  True,  True],\n",
       "       [False, False,  True,  True],\n",
       "       [ True,  True,  True,  True]])"
      ]
     },
     "execution_count": 163,
     "metadata": {},
     "output_type": "execute_result"
    }
   ],
   "source": [
    "arr1 > arr2"
   ]
  },
  {
   "cell_type": "code",
   "execution_count": 164,
   "id": "d2b30ebc-4002-4b62-b33b-ca745aa68d6c",
   "metadata": {},
   "outputs": [],
   "source": [
    "## string operation\n",
    "\n",
    "arr = np.array(['pras', 'nadi', 'sao'])"
   ]
  },
  {
   "cell_type": "code",
   "execution_count": 166,
   "id": "bbdb8c12-c83b-4e4a-9091-a34166a08262",
   "metadata": {},
   "outputs": [
    {
     "data": {
      "text/plain": [
       "array(['PRAS', 'NADI', 'SAO'], dtype='<U4')"
      ]
     },
     "execution_count": 166,
     "metadata": {},
     "output_type": "execute_result"
    }
   ],
   "source": [
    "np.char.upper(arr)"
   ]
  },
  {
   "cell_type": "code",
   "execution_count": 167,
   "id": "171b6d05-f978-4f2b-becc-e1b48b3a683b",
   "metadata": {},
   "outputs": [
    {
     "data": {
      "text/plain": [
       "array(['Pras', 'Nadi', 'Sao'], dtype='<U4')"
      ]
     },
     "execution_count": 167,
     "metadata": {},
     "output_type": "execute_result"
    }
   ],
   "source": [
    "np.char.capitalize(arr)"
   ]
  },
  {
   "cell_type": "code",
   "execution_count": 168,
   "id": "438c5480-0053-4264-931d-0524a6c5d78e",
   "metadata": {},
   "outputs": [],
   "source": [
    "## Mathematica"
   ]
  },
  {
   "cell_type": "code",
   "execution_count": 170,
   "id": "005e5c92-e60e-4dbe-a661-0d26239709d9",
   "metadata": {},
   "outputs": [
    {
     "data": {
      "text/plain": [
       "array([[0.90929743, 0.84147098, 0.90929743],\n",
       "       [0.90929743, 0.84147098, 0.90929743],\n",
       "       [0.90929743, 0.90929743, 0.84147098]])"
      ]
     },
     "execution_count": 170,
     "metadata": {},
     "output_type": "execute_result"
    }
   ],
   "source": [
    "np.sin(arr6)"
   ]
  },
  {
   "cell_type": "code",
   "execution_count": 171,
   "id": "70adede1-0866-4205-a71d-b6ef0aa0d6ea",
   "metadata": {},
   "outputs": [
    {
     "data": {
      "text/plain": [
       "array([[ 1.55740772,  1.55740772, -2.18503986],\n",
       "       [ 1.55740772,  1.55740772, -2.18503986],\n",
       "       [-2.18503986, -2.18503986, -2.18503986]])"
      ]
     },
     "execution_count": 171,
     "metadata": {},
     "output_type": "execute_result"
    }
   ],
   "source": [
    "np.tan(arr7)"
   ]
  },
  {
   "cell_type": "code",
   "execution_count": 172,
   "id": "f9510544-8b0b-4860-b7e5-0999aee2a577",
   "metadata": {},
   "outputs": [
    {
     "data": {
      "text/plain": [
       "array([[0.30103   , 0.77815125, 0.84509804, 0.90308999, 0.90308999],\n",
       "       [0.84509804, 0.77815125, 0.47712125, 0.69897   , 0.84509804],\n",
       "       [0.95424251, 0.77815125, 0.        , 0.90308999, 0.30103   ],\n",
       "       [0.        , 0.60205999, 0.30103   , 0.90308999, 0.60205999],\n",
       "       [0.60205999, 0.69897   , 0.90308999, 0.77815125, 0.69897   ]])"
      ]
     },
     "execution_count": 172,
     "metadata": {},
     "output_type": "execute_result"
    }
   ],
   "source": [
    "np.log10(arr5)"
   ]
  },
  {
   "cell_type": "code",
   "execution_count": 174,
   "id": "5bed1fa1-9386-4551-a3d5-7dd9c67ed784",
   "metadata": {},
   "outputs": [
    {
     "data": {
      "text/plain": [
       "array([[7.38905610e+00, 4.03428793e+02, 1.09663316e+03, 2.98095799e+03,\n",
       "        2.98095799e+03],\n",
       "       [1.09663316e+03, 4.03428793e+02, 2.00855369e+01, 1.48413159e+02,\n",
       "        1.09663316e+03],\n",
       "       [8.10308393e+03, 4.03428793e+02, 2.71828183e+00, 2.98095799e+03,\n",
       "        7.38905610e+00],\n",
       "       [2.71828183e+00, 5.45981500e+01, 7.38905610e+00, 2.98095799e+03,\n",
       "        5.45981500e+01],\n",
       "       [5.45981500e+01, 1.48413159e+02, 2.98095799e+03, 4.03428793e+02,\n",
       "        1.48413159e+02]])"
      ]
     },
     "execution_count": 174,
     "metadata": {},
     "output_type": "execute_result"
    }
   ],
   "source": [
    "np.exp(arr5)"
   ]
  },
  {
   "cell_type": "code",
   "execution_count": 177,
   "id": "6e664a33-3f11-4f24-9893-05fd0bd8dfeb",
   "metadata": {},
   "outputs": [
    {
     "data": {
      "text/plain": [
       "array([[ 4, 36, 49, 64, 64],\n",
       "       [49, 36,  9, 25, 49],\n",
       "       [81, 36,  1, 64,  4],\n",
       "       [ 1, 16,  4, 64, 16],\n",
       "       [16, 25, 64, 36, 25]])"
      ]
     },
     "execution_count": 177,
     "metadata": {},
     "output_type": "execute_result"
    }
   ],
   "source": [
    "np.power(arr5, 2)"
   ]
  },
  {
   "cell_type": "code",
   "execution_count": 179,
   "id": "4bba2e52-6cbd-47bd-a3fd-37e327897e65",
   "metadata": {},
   "outputs": [
    {
     "data": {
      "text/plain": [
       "5.333333333333333"
      ]
     },
     "execution_count": 179,
     "metadata": {},
     "output_type": "execute_result"
    }
   ],
   "source": [
    "np.mean(arr1)"
   ]
  },
  {
   "cell_type": "code",
   "execution_count": 180,
   "id": "293bbf4a-adbc-4a1b-a29a-e57add3a2488",
   "metadata": {},
   "outputs": [
    {
     "data": {
      "text/plain": [
       "5.5"
      ]
     },
     "execution_count": 180,
     "metadata": {},
     "output_type": "execute_result"
    }
   ],
   "source": [
    "np.median(arr1)"
   ]
  },
  {
   "cell_type": "code",
   "execution_count": 181,
   "id": "2f20fa57-1990-481f-b4ca-123a04bde9b4",
   "metadata": {},
   "outputs": [
    {
     "data": {
      "text/plain": [
       "6.722222222222221"
      ]
     },
     "execution_count": 181,
     "metadata": {},
     "output_type": "execute_result"
    }
   ],
   "source": [
    "np.var(arr1)"
   ]
  },
  {
   "cell_type": "code",
   "execution_count": 183,
   "id": "b3b442af-7d32-43f0-8c13-aef0c0382011",
   "metadata": {},
   "outputs": [
    {
     "data": {
      "text/plain": [
       "2.592724864350674"
      ]
     },
     "execution_count": 183,
     "metadata": {},
     "output_type": "execute_result"
    }
   ],
   "source": [
    "np.std(arr1)"
   ]
  },
  {
   "cell_type": "code",
   "execution_count": 184,
   "id": "e6ae7277-27f0-4b0e-9f54-02f80e55007f",
   "metadata": {},
   "outputs": [
    {
     "data": {
      "text/plain": [
       "1"
      ]
     },
     "execution_count": 184,
     "metadata": {},
     "output_type": "execute_result"
    }
   ],
   "source": [
    "np.min(arr1)"
   ]
  },
  {
   "cell_type": "code",
   "execution_count": 185,
   "id": "0af26943-5718-44f3-950a-5e5601310ba9",
   "metadata": {},
   "outputs": [
    {
     "data": {
      "text/plain": [
       "9"
      ]
     },
     "execution_count": 185,
     "metadata": {},
     "output_type": "execute_result"
    }
   ],
   "source": [
    "np.max(arr1)"
   ]
  },
  {
   "cell_type": "code",
   "execution_count": 186,
   "id": "55b2459a-d837-4f48-883f-946a4c784e29",
   "metadata": {},
   "outputs": [
    {
     "data": {
      "text/plain": [
       "array(['pras', 'nadi', 'sao'], dtype='<U4')"
      ]
     },
     "execution_count": 186,
     "metadata": {},
     "output_type": "execute_result"
    }
   ],
   "source": [
    "arr"
   ]
  },
  {
   "cell_type": "code",
   "execution_count": 187,
   "id": "e669ceae-11a7-4606-adc5-0b2cd0d4ecf2",
   "metadata": {},
   "outputs": [
    {
     "data": {
      "text/plain": [
       "array([[2, 1, 2],\n",
       "       [2, 1, 2],\n",
       "       [2, 2, 1]])"
      ]
     },
     "execution_count": 187,
     "metadata": {},
     "output_type": "execute_result"
    }
   ],
   "source": [
    "arr6"
   ]
  },
  {
   "cell_type": "code",
   "execution_count": 188,
   "id": "1a277ef1-16de-4ba0-b42d-3421f45c8a64",
   "metadata": {},
   "outputs": [
    {
     "data": {
      "text/plain": [
       "array([[1, 1, 2],\n",
       "       [1, 1, 2],\n",
       "       [2, 2, 2]])"
      ]
     },
     "execution_count": 188,
     "metadata": {},
     "output_type": "execute_result"
    }
   ],
   "source": [
    "arr7"
   ]
  },
  {
   "cell_type": "code",
   "execution_count": 189,
   "id": "aa0bbcc7-b74b-40e5-995c-785b5e390f47",
   "metadata": {},
   "outputs": [
    {
     "data": {
      "text/plain": [
       "array([[2, 1, 4],\n",
       "       [2, 1, 4],\n",
       "       [4, 4, 2]])"
      ]
     },
     "execution_count": 189,
     "metadata": {},
     "output_type": "execute_result"
    }
   ],
   "source": [
    "np.multiply(arr6, arr7)"
   ]
  },
  {
   "cell_type": "code",
   "execution_count": 190,
   "id": "0b634143-cdc5-4841-90fd-ab78df94a4dd",
   "metadata": {},
   "outputs": [
    {
     "data": {
      "text/plain": [
       "array([[ 1,  0,  0],\n",
       "       [ 1,  0,  0],\n",
       "       [ 0,  0, -1]])"
      ]
     },
     "execution_count": 190,
     "metadata": {},
     "output_type": "execute_result"
    }
   ],
   "source": [
    "np.subtract(arr6, arr7)"
   ]
  },
  {
   "cell_type": "code",
   "execution_count": 191,
   "id": "b17c3744-3655-4b76-b4d3-c9a53afc1a84",
   "metadata": {},
   "outputs": [],
   "source": [
    "# l4"
   ]
  },
  {
   "cell_type": "code",
   "execution_count": 192,
   "id": "2b6ac45c-8800-45c3-b30a-aeb391cc6606",
   "metadata": {},
   "outputs": [],
   "source": [
    "# sort, search, count"
   ]
  },
  {
   "cell_type": "code",
   "execution_count": 193,
   "id": "43b08ff4-a6f9-47a5-8e11-36ffbf12d996",
   "metadata": {},
   "outputs": [],
   "source": [
    "import numpy as np"
   ]
  },
  {
   "cell_type": "code",
   "execution_count": 194,
   "id": "5f6b86a7-4cca-4117-9622-86ecc5d25610",
   "metadata": {},
   "outputs": [
    {
     "data": {
      "text/plain": [
       "array([2, 3, 4, 5])"
      ]
     },
     "execution_count": 194,
     "metadata": {},
     "output_type": "execute_result"
    }
   ],
   "source": [
    "np.array([2,3,4,5])"
   ]
  },
  {
   "cell_type": "code",
   "execution_count": 196,
   "id": "d6913aed-740b-49fb-b2e8-98f5c8790536",
   "metadata": {},
   "outputs": [],
   "source": [
    "a = np.array([51, 61, 2, 4, 13, 52])"
   ]
  },
  {
   "cell_type": "code",
   "execution_count": 197,
   "id": "ba360aec-d2c1-415d-8a08-652de28ac30b",
   "metadata": {},
   "outputs": [
    {
     "data": {
      "text/plain": [
       "array([ 2,  4, 13, 51, 52, 61])"
      ]
     },
     "execution_count": 197,
     "metadata": {},
     "output_type": "execute_result"
    }
   ],
   "source": [
    "np.sort(a)"
   ]
  },
  {
   "cell_type": "code",
   "execution_count": 198,
   "id": "f889a897-c65b-4270-935a-6126071a8f09",
   "metadata": {},
   "outputs": [
    {
     "data": {
      "text/plain": [
       "6"
      ]
     },
     "execution_count": 198,
     "metadata": {},
     "output_type": "execute_result"
    }
   ],
   "source": [
    "np.searchsorted(a, 61)"
   ]
  },
  {
   "cell_type": "code",
   "execution_count": 200,
   "id": "c24f315d-1581-4a35-af8f-1b27771239bf",
   "metadata": {},
   "outputs": [],
   "source": [
    "arr1 = np.array([0, 2342, 253, 0, 23, 234, 0])"
   ]
  },
  {
   "cell_type": "code",
   "execution_count": 203,
   "id": "4a02c90d-e3ae-43f4-bae1-97268f572be6",
   "metadata": {},
   "outputs": [
    {
     "data": {
      "text/plain": [
       "4"
      ]
     },
     "execution_count": 203,
     "metadata": {},
     "output_type": "execute_result"
    }
   ],
   "source": [
    "np.count_nonzero(arr1)"
   ]
  },
  {
   "cell_type": "code",
   "execution_count": 204,
   "id": "325aed76-2c53-4b11-8d39-ae79ae72e371",
   "metadata": {},
   "outputs": [
    {
     "data": {
      "text/plain": [
       "(array([1, 2, 4, 5]),)"
      ]
     },
     "execution_count": 204,
     "metadata": {},
     "output_type": "execute_result"
    }
   ],
   "source": [
    "np.where(arr1>0)"
   ]
  },
  {
   "cell_type": "code",
   "execution_count": 205,
   "id": "01322ae7-0245-462e-95c1-bd1f374d6d0a",
   "metadata": {},
   "outputs": [
    {
     "data": {
      "text/plain": [
       "array([2342,  253,   23,  234])"
      ]
     },
     "execution_count": 205,
     "metadata": {},
     "output_type": "execute_result"
    }
   ],
   "source": [
    "np.extract(arr1>2, arr1)"
   ]
  },
  {
   "cell_type": "code",
   "execution_count": 206,
   "id": "16b49575-7fca-484e-84aa-94023ba3d0ae",
   "metadata": {},
   "outputs": [],
   "source": [
    "##  Byte swapping"
   ]
  },
  {
   "cell_type": "code",
   "execution_count": 207,
   "id": "5d2c6c7f-127c-4434-9acb-fa7999d4cee7",
   "metadata": {},
   "outputs": [
    {
     "data": {
      "text/plain": [
       "array([   0, 2342,  253,    0,   23,  234,    0])"
      ]
     },
     "execution_count": 207,
     "metadata": {},
     "output_type": "execute_result"
    }
   ],
   "source": [
    "arr1"
   ]
  },
  {
   "cell_type": "code",
   "execution_count": 208,
   "id": "7f3a6c77-aa8a-4290-aab8-544ea6e6cbc5",
   "metadata": {},
   "outputs": [
    {
     "data": {
      "text/plain": [
       "array([                   0,  2740721848231657472,  -216172782113783808,\n",
       "                          0,  1657324662872342528, -1585267068834414592,\n",
       "                          0])"
      ]
     },
     "execution_count": 208,
     "metadata": {},
     "output_type": "execute_result"
    }
   ],
   "source": [
    "arr1.byteswap()"
   ]
  },
  {
   "cell_type": "code",
   "execution_count": 209,
   "id": "e93a2085-19c7-4fde-889d-d4f8b213ac21",
   "metadata": {},
   "outputs": [],
   "source": [
    "## Deep copy and shallown copy"
   ]
  },
  {
   "cell_type": "code",
   "execution_count": 210,
   "id": "3a9f83b5-c4c9-4cb5-867f-ebad6e07c09d",
   "metadata": {},
   "outputs": [],
   "source": [
    "## view\n",
    "\n",
    "b = arr1.view()"
   ]
  },
  {
   "cell_type": "code",
   "execution_count": 211,
   "id": "e0c99c2c-00fb-42b0-bb82-40085ad3dc91",
   "metadata": {},
   "outputs": [
    {
     "data": {
      "text/plain": [
       "array([   0, 2342,  253,    0,   23,  234,    0])"
      ]
     },
     "execution_count": 211,
     "metadata": {},
     "output_type": "execute_result"
    }
   ],
   "source": [
    "arr1"
   ]
  },
  {
   "cell_type": "code",
   "execution_count": 212,
   "id": "a92f0a30-e6eb-4a23-a89e-9655f3e9db93",
   "metadata": {},
   "outputs": [
    {
     "data": {
      "text/plain": [
       "array([   0, 2342,  253,    0,   23,  234,    0])"
      ]
     },
     "execution_count": 212,
     "metadata": {},
     "output_type": "execute_result"
    }
   ],
   "source": [
    "b"
   ]
  },
  {
   "cell_type": "code",
   "execution_count": 213,
   "id": "9ae54db4-a81a-463a-b995-50ea3568b07e",
   "metadata": {},
   "outputs": [],
   "source": [
    "b[0]= 10000"
   ]
  },
  {
   "cell_type": "code",
   "execution_count": 214,
   "id": "cce0541b-3132-457f-ae15-4b40d9687412",
   "metadata": {},
   "outputs": [
    {
     "data": {
      "text/plain": [
       "array([10000,  2342,   253,     0,    23,   234,     0])"
      ]
     },
     "execution_count": 214,
     "metadata": {},
     "output_type": "execute_result"
    }
   ],
   "source": [
    "b"
   ]
  },
  {
   "cell_type": "code",
   "execution_count": 215,
   "id": "7eee5191-0df2-4fd6-8e57-e45cee471b5e",
   "metadata": {},
   "outputs": [
    {
     "data": {
      "text/plain": [
       "array([10000,  2342,   253,     0,    23,   234,     0])"
      ]
     },
     "execution_count": 215,
     "metadata": {},
     "output_type": "execute_result"
    }
   ],
   "source": [
    "arr1"
   ]
  },
  {
   "cell_type": "code",
   "execution_count": 216,
   "id": "2922bb55-6bf0-460e-a481-7708aa7e2f4a",
   "metadata": {},
   "outputs": [],
   "source": [
    "## Matrix"
   ]
  },
  {
   "cell_type": "code",
   "execution_count": 217,
   "id": "e391ef62-d209-41ec-a506-b57e6f19d4fe",
   "metadata": {},
   "outputs": [],
   "source": [
    "import numpy.matlib as nm"
   ]
  },
  {
   "cell_type": "code",
   "execution_count": 218,
   "id": "fdb2ecd5-abb3-461d-9eec-2211f0b23134",
   "metadata": {},
   "outputs": [
    {
     "data": {
      "text/plain": [
       "matrix([[0., 0., 0., 0., 0.]])"
      ]
     },
     "execution_count": 218,
     "metadata": {},
     "output_type": "execute_result"
    }
   ],
   "source": [
    "nm.zeros(5)"
   ]
  },
  {
   "cell_type": "code",
   "execution_count": 219,
   "id": "39c4f15d-d2e4-42fe-b9c7-5d3099476448",
   "metadata": {},
   "outputs": [
    {
     "data": {
      "text/plain": [
       "matrix([[1., 1., 1., 1.],\n",
       "        [1., 1., 1., 1.],\n",
       "        [1., 1., 1., 1.]])"
      ]
     },
     "execution_count": 219,
     "metadata": {},
     "output_type": "execute_result"
    }
   ],
   "source": [
    "nm.ones((3,4))"
   ]
  },
  {
   "cell_type": "code",
   "execution_count": 221,
   "id": "d2b09126-ecc7-4371-b981-580364b02c2e",
   "metadata": {},
   "outputs": [
    {
     "data": {
      "text/plain": [
       "matrix([[1., 0., 0., 0.],\n",
       "        [0., 1., 0., 0.],\n",
       "        [0., 0., 1., 0.],\n",
       "        [0., 0., 0., 1.]])"
      ]
     },
     "execution_count": 221,
     "metadata": {},
     "output_type": "execute_result"
    }
   ],
   "source": [
    "nm.eye(4)"
   ]
  },
  {
   "cell_type": "code",
   "execution_count": 222,
   "id": "38a77548-7bd7-4614-be7e-362197abce21",
   "metadata": {},
   "outputs": [],
   "source": [
    "## linear algreda\n",
    "\n",
    "arr2 = np.random.randint(1, 5, (2,2))\n",
    "arr3 = np.random.randint(3, 5, (2,5))"
   ]
  },
  {
   "cell_type": "code",
   "execution_count": 224,
   "id": "611b74dc-d388-4a00-b2b9-ec578be64fd1",
   "metadata": {},
   "outputs": [
    {
     "data": {
      "text/plain": [
       "array([[3, 1],\n",
       "       [4, 2]])"
      ]
     },
     "execution_count": 224,
     "metadata": {},
     "output_type": "execute_result"
    }
   ],
   "source": [
    "arr2"
   ]
  },
  {
   "cell_type": "code",
   "execution_count": 225,
   "id": "f6d6afd1-80f8-4811-959d-5e3bf8d96706",
   "metadata": {},
   "outputs": [
    {
     "data": {
      "text/plain": [
       "array([[4, 3, 4, 4, 4],\n",
       "       [4, 3, 3, 4, 3]])"
      ]
     },
     "execution_count": 225,
     "metadata": {},
     "output_type": "execute_result"
    }
   ],
   "source": [
    "arr3"
   ]
  },
  {
   "cell_type": "code",
   "execution_count": 223,
   "id": "3f98f66e-d0ec-426b-8db4-dcc3850a5e67",
   "metadata": {},
   "outputs": [
    {
     "data": {
      "text/plain": [
       "array([[16, 12, 15, 16, 15],\n",
       "       [24, 18, 22, 24, 22]])"
      ]
     },
     "execution_count": 223,
     "metadata": {},
     "output_type": "execute_result"
    }
   ],
   "source": [
    "np.dot(arr2, arr3)"
   ]
  },
  {
   "cell_type": "code",
   "execution_count": null,
   "id": "ac42df55-2d7a-4e5a-a67a-bab896aa147a",
   "metadata": {},
   "outputs": [],
   "source": []
  }
 ],
 "metadata": {
  "kernelspec": {
   "display_name": "Python 3 (ipykernel)",
   "language": "python",
   "name": "python3"
  },
  "language_info": {
   "codemirror_mode": {
    "name": "ipython",
    "version": 3
   },
   "file_extension": ".py",
   "mimetype": "text/x-python",
   "name": "python",
   "nbconvert_exporter": "python",
   "pygments_lexer": "ipython3",
   "version": "3.10.8"
  }
 },
 "nbformat": 4,
 "nbformat_minor": 5
}
